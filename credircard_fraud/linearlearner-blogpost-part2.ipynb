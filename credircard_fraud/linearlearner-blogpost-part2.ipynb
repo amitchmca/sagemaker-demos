{
 "cells": [
  {
   "cell_type": "markdown",
   "metadata": {
    "nbpresent": {
     "id": "9b84e6dd-6ee6-4127-a73d-03d1c37ab143"
    }
   },
   "source": [
    "# Linear Regression and Amazon Linear Learner Algorithm - Part 2"
   ]
  },
  {
   "cell_type": "markdown",
   "metadata": {
    "nbpresent": {
     "id": "8ed12894-bed7-47e0-ba3f-2d9df457f6e4"
    }
   },
   "source": [
    "# Assumptions and Disclaimers\n",
    "This blogpost assumes that you have already completed the following tutorials from Amazon SageMaker docuemntation:\n",
    "- [Setting up](https://docs.aws.amazon.com/sagemaker/latest/dg/gs-set-up.html)\n",
    "- [Create am Amazon SageMaker Notebook Instance](https://docs.aws.amazon.com/sagemaker/latest/dg/gs-setup-working-env.html)\n",
    "- I have included 'sagemaker' in the name of my S3 bucket, \"cyrusmv-sagemaker-demos' and have chosen to let any SageMaker notebook instance to access any S3 bucket with the term 'sagemaker' included in the name. This is however is not a recommended security option for production and is only useful for simplifying the flow of the blog.\n",
    "- It is assumed that the reader is familiar with linear regression. If not please read part 1 of this post.\n",
    "\n"
   ]
  },
  {
   "cell_type": "markdown",
   "metadata": {
    "nbpresent": {
     "id": "7e1043f4-caaf-46d3-8f3f-d62997b2bd85"
    }
   },
   "source": [
    "# Introduction\n",
    "\n",
    "In this part of the blog, I will provide an introduction to inner-workings of SageMaker and Amazon LinearLearner algorithm. Then we will download [Visa dataset from Kaggle](https://www.kaggle.com/dalpozz/creditcardfraud) and pre-process it in order to feed the data to the algorithm.\n",
    "We then create an endpoint and make predictions using trained models."
   ]
  },
  {
   "cell_type": "markdown",
   "metadata": {
    "nbpresent": {
     "id": "17526a32-7d49-49a5-b686-03719aeaf294"
    }
   },
   "source": [
    "# Amazon SageMaker\n",
    "Amazon SageMaker is a fully managed machine learning service. With Amazon SageMaker, data scientists and developers can quickly and easily build and train machine learning models, and tan directly deploy them into a production-ready hosted environment. It provides an integrated Jupyter authoring notebook instance for easy access to you're data sources for exploration and analysis, so you don't have to manage servers. It also provides common machine learning algorithms that are optimized to run efficiently against extremely large data in a distributed environment. With native support for bring-you're-own-algorithms and frameworks, Amazon SageMaker offers flexible distributed training options that adjust to you're specific workflows. Deploy a model into a secure and scalable environment by launching it with a single click from teh Amazon SageMaker console. Training and hosting are billed by minutes of usage, with no minimum fees and no upfront commitments.\n",
    "\n",
    "SageMaker python sdk, is a library that provides the user with the ability to wrap your models in helper classes that can be passed to Amazon SageMaker. The python sdk provides you with the ability to, use Amazon Algorithms, train and deploy your own code (currently MXNet and TensorFlow) using Amazon SagedMaker, and bring your own pre-trained dockertized models.\n",
    "\n",
    "Let us next take a look at the architecture of SageMaker.\n",
    "\n",
    "## How does Amazon SageMaker Work:\n",
    "### Training\n",
    "TRaining workload, for a end-to-end model development includes the following components:\n",
    "- S3 Bucket for the training dataset\n",
    "- Amazon SageMaker notebook instance. Fully managed single tenant EC2 instance.\n",
    "- EC2 cluster for training. (fully managed transparent to developer)\n",
    "- S3 bucket for trained model\n",
    "\n",
    "### Hosting\n",
    "- S3 bucket for model\n",
    "- ECS infrastructure to host a dockerized model (fully managed transparent to developer)\n",
    "- EC2 cluster manages by ECS\n",
    "- Nodel Endpoints, elastically scalable callable inference endpoints. (fully managed transparent to developer)\n",
    "\n",
    "![SageMaker Architecture](https://docs.aws.amazon.com/sagemaker/latest/dg/images/ironman-architecture.png)"
   ]
  },
  {
   "cell_type": "markdown",
   "metadata": {
    "nbpresent": {
     "id": "815e8f41-fa98-495d-90a1-ee0fa9f3c0ef"
    }
   },
   "source": [
    "## The SageMaker Process - Training\n",
    "1. Upload the data into S3. Prior to this we have gone trough several preparation steps that are necessary, but are not specific to Amazon SageMaker. This step could also being performed outside of SageMaker\n",
    "2. Train: Training code is wrapped inside sagemaker helper code. In case of Amazon Algorithms this is already completed and instead of using your own training and wrapper code, we simply pull the model from [Amazon ECR (Elastic Container Registry)](https://aws.amazon.com/ecr/). During the training process the following steps will happen:\n",
    " 1. A training cluster based on requested specification will be created. \n",
    " Dataset will be streamed to the training cluster\n",
    "    - Authentication and Authorization will be based on execution role of the SageMaker \n",
    " 2. A training job is launched.\n",
    " 3. Data is streamed to the training instances.\n",
    " 4- Hyperparameters are passed to the training model.\n",
    " 5- Training will end after a terminationcriterial is reached.\n",
    "2. After the model is trained, model artefacts will be uploaded to S3.\n",
    "3. The training cluster is torn down.\n"
   ]
  },
  {
   "cell_type": "markdown",
   "metadata": {
    "nbpresent": {
     "id": "421a3c73-4054-4f1a-8aa5-f8f7f74b6c2d"
    }
   },
   "source": [
    "### Get the data\n",
    "1. Download the dataset from [kaggle](https://www.kaggle.com/dalpozz/creditcardfraud) to your local machine.\n",
    "2. Upload the dataset onto S3. *reminder*: I am using an S3 bucket whose name includes the term *\"sagemaker\"*\n",
    "The rest of this blog assumes that you have already done this.\n",
    "### Inspencting and understanding the data \n",
    "*NOTE:* If you are intersted in learning about preprocessing data, you should start here, otherwise you could simply start from part 2, when we load the data from npy files.\n",
    "1. Download the dataset from S3 onto your notebook instance\n",
    "2. Loading the csv file into a pandas dataframe for inspection"
   ]
  },
  {
   "cell_type": "code",
   "execution_count": 49,
   "metadata": {
    "collapsed": true,
    "nbpresent": {
     "id": "bc856947-4e65-4ef7-b406-05f468854471"
    }
   },
   "outputs": [],
   "source": [
    "#imports\n",
    "import boto3 #AWS python SDK for accessing AWS services\n",
    "import pandas as pd #Tabular data structure\n",
    "import numpy as np #Array libraru with probability and statistics capabilities\n",
    "import matplotlib.pyplot as plt # Plotting library\n",
    "import seaborn as sns #plotting library\n",
    "import io\n",
    "import sagemaker.amazon.common as smac # Amazon Sagemaker common library that includes data formats\n",
    "import sagemaker #sagemaker python sdk\n",
    "import os\n",
    "from sagemaker.predictor import csv_serializer, json_deserializer #sagemaker prediction sdk"
   ]
  },
  {
   "cell_type": "code",
   "execution_count": 50,
   "metadata": {
    "nbpresent": {
     "id": "1629436c-65dd-44ac-8b08-86a5790620c3"
    }
   },
   "outputs": [
    {
     "name": "stdout",
     "output_type": "stream",
     "text": [
      "arn:aws:iam::475933981307:role/service-role/AmazonSageMaker-ExecutionRole-20180102T172706\n"
     ]
    }
   ],
   "source": [
    "bucket = 'cyrusmv-sagemaker-demos'     #replace this with your own bucket \n",
    "prefix = 'visa-kaggle/original.csv'    #replace this with your own file inside the bucket\n",
    "protocol=\"s3://\"\n",
    "datafile = 'data/original.csv'\n",
    " \n",
    "# Define IAM role\n",
    "#import boto3\n",
    "#import re\n",
    "from sagemaker import get_execution_role\n",
    "role = get_execution_role() #this is SageMaker role that would be later used for authorizing SageMaker to access S3\n",
    "print(role) \n",
    "\n",
    "sagemaker_session = sagemaker.Session()"
   ]
  },
  {
   "cell_type": "markdown",
   "metadata": {
    "nbpresent": {
     "id": "258ae621-c08c-460d-9852-026fcd11d6a5"
    }
   },
   "source": [
    "### Data ingestion\n",
    "1. Downloding file locally\n",
    "2. Loading file into pandas for inspection\n",
    "3. conversting data to numpy\n",
    "4. shuffling the data\n",
    "5. spliting data into test and training\n",
    "6. breaking up each data set to data and label"
   ]
  },
  {
   "cell_type": "code",
   "execution_count": 51,
   "metadata": {
    "collapsed": true,
    "nbpresent": {
     "id": "99a90655-1f25-4604-9edd-7fd934e1ed21"
    }
   },
   "outputs": [],
   "source": [
    "#Downloading the file to a local folder\n",
    "client = boto3.client('s3')\n",
    "with open(datafile, 'wb') as f:\n",
    "    client.download_fileobj(bucket, prefix, f)"
   ]
  },
  {
   "cell_type": "code",
   "execution_count": 52,
   "metadata": {
    "nbpresent": {
     "id": "d66da413-d063-4a3c-a053-2bfebc9d2e95"
    }
   },
   "outputs": [
    {
     "name": "stdout",
     "output_type": "stream",
     "text": [
      "(284807, 31)\n"
     ]
    }
   ],
   "source": [
    "# loading data into pandas for inspection\n",
    "df = pd.read_csv(datafile)\n",
    "print(df.as_matrix().shape)"
   ]
  },
  {
   "cell_type": "markdown",
   "metadata": {
    "nbpresent": {
     "id": "3b8c7325-6d3b-4d65-b219-050d78b7649f"
    }
   },
   "source": [
    "### Data Dimension\n",
    "Shape of data is $284807 \\times 31$, meaning that $dim(input\\_data)\\ = \\ 1$. Next we would like to distinguish features from the target."
   ]
  },
  {
   "cell_type": "code",
   "execution_count": 53,
   "metadata": {
    "nbpresent": {
     "id": "6752f22d-3666-4bde-ae2f-bcd7ad77284a"
    }
   },
   "outputs": [
    {
     "data": {
      "text/html": [
       "<div>\n",
       "<style>\n",
       "    .dataframe thead tr:only-child th {\n",
       "        text-align: right;\n",
       "    }\n",
       "\n",
       "    .dataframe thead th {\n",
       "        text-align: left;\n",
       "    }\n",
       "\n",
       "    .dataframe tbody tr th {\n",
       "        vertical-align: top;\n",
       "    }\n",
       "</style>\n",
       "<table border=\"1\" class=\"dataframe\">\n",
       "  <thead>\n",
       "    <tr style=\"text-align: right;\">\n",
       "      <th></th>\n",
       "      <th>Time</th>\n",
       "      <th>V1</th>\n",
       "      <th>V2</th>\n",
       "      <th>V3</th>\n",
       "      <th>V4</th>\n",
       "      <th>V5</th>\n",
       "      <th>V6</th>\n",
       "      <th>V7</th>\n",
       "      <th>V8</th>\n",
       "      <th>V9</th>\n",
       "      <th>...</th>\n",
       "      <th>V21</th>\n",
       "      <th>V22</th>\n",
       "      <th>V23</th>\n",
       "      <th>V24</th>\n",
       "      <th>V25</th>\n",
       "      <th>V26</th>\n",
       "      <th>V27</th>\n",
       "      <th>V28</th>\n",
       "      <th>Amount</th>\n",
       "      <th>Class</th>\n",
       "    </tr>\n",
       "  </thead>\n",
       "  <tbody>\n",
       "    <tr>\n",
       "      <th>0</th>\n",
       "      <td>0.0</td>\n",
       "      <td>-1.359807</td>\n",
       "      <td>-0.072781</td>\n",
       "      <td>2.536347</td>\n",
       "      <td>1.378155</td>\n",
       "      <td>-0.338321</td>\n",
       "      <td>0.462388</td>\n",
       "      <td>0.239599</td>\n",
       "      <td>0.098698</td>\n",
       "      <td>0.363787</td>\n",
       "      <td>...</td>\n",
       "      <td>-0.018307</td>\n",
       "      <td>0.277838</td>\n",
       "      <td>-0.110474</td>\n",
       "      <td>0.066928</td>\n",
       "      <td>0.128539</td>\n",
       "      <td>-0.189115</td>\n",
       "      <td>0.133558</td>\n",
       "      <td>-0.021053</td>\n",
       "      <td>149.62</td>\n",
       "      <td>0</td>\n",
       "    </tr>\n",
       "    <tr>\n",
       "      <th>1</th>\n",
       "      <td>0.0</td>\n",
       "      <td>1.191857</td>\n",
       "      <td>0.266151</td>\n",
       "      <td>0.166480</td>\n",
       "      <td>0.448154</td>\n",
       "      <td>0.060018</td>\n",
       "      <td>-0.082361</td>\n",
       "      <td>-0.078803</td>\n",
       "      <td>0.085102</td>\n",
       "      <td>-0.255425</td>\n",
       "      <td>...</td>\n",
       "      <td>-0.225775</td>\n",
       "      <td>-0.638672</td>\n",
       "      <td>0.101288</td>\n",
       "      <td>-0.339846</td>\n",
       "      <td>0.167170</td>\n",
       "      <td>0.125895</td>\n",
       "      <td>-0.008983</td>\n",
       "      <td>0.014724</td>\n",
       "      <td>2.69</td>\n",
       "      <td>0</td>\n",
       "    </tr>\n",
       "    <tr>\n",
       "      <th>2</th>\n",
       "      <td>1.0</td>\n",
       "      <td>-1.358354</td>\n",
       "      <td>-1.340163</td>\n",
       "      <td>1.773209</td>\n",
       "      <td>0.379780</td>\n",
       "      <td>-0.503198</td>\n",
       "      <td>1.800499</td>\n",
       "      <td>0.791461</td>\n",
       "      <td>0.247676</td>\n",
       "      <td>-1.514654</td>\n",
       "      <td>...</td>\n",
       "      <td>0.247998</td>\n",
       "      <td>0.771679</td>\n",
       "      <td>0.909412</td>\n",
       "      <td>-0.689281</td>\n",
       "      <td>-0.327642</td>\n",
       "      <td>-0.139097</td>\n",
       "      <td>-0.055353</td>\n",
       "      <td>-0.059752</td>\n",
       "      <td>378.66</td>\n",
       "      <td>0</td>\n",
       "    </tr>\n",
       "    <tr>\n",
       "      <th>3</th>\n",
       "      <td>1.0</td>\n",
       "      <td>-0.966272</td>\n",
       "      <td>-0.185226</td>\n",
       "      <td>1.792993</td>\n",
       "      <td>-0.863291</td>\n",
       "      <td>-0.010309</td>\n",
       "      <td>1.247203</td>\n",
       "      <td>0.237609</td>\n",
       "      <td>0.377436</td>\n",
       "      <td>-1.387024</td>\n",
       "      <td>...</td>\n",
       "      <td>-0.108300</td>\n",
       "      <td>0.005274</td>\n",
       "      <td>-0.190321</td>\n",
       "      <td>-1.175575</td>\n",
       "      <td>0.647376</td>\n",
       "      <td>-0.221929</td>\n",
       "      <td>0.062723</td>\n",
       "      <td>0.061458</td>\n",
       "      <td>123.50</td>\n",
       "      <td>0</td>\n",
       "    </tr>\n",
       "    <tr>\n",
       "      <th>4</th>\n",
       "      <td>2.0</td>\n",
       "      <td>-1.158233</td>\n",
       "      <td>0.877737</td>\n",
       "      <td>1.548718</td>\n",
       "      <td>0.403034</td>\n",
       "      <td>-0.407193</td>\n",
       "      <td>0.095921</td>\n",
       "      <td>0.592941</td>\n",
       "      <td>-0.270533</td>\n",
       "      <td>0.817739</td>\n",
       "      <td>...</td>\n",
       "      <td>-0.009431</td>\n",
       "      <td>0.798278</td>\n",
       "      <td>-0.137458</td>\n",
       "      <td>0.141267</td>\n",
       "      <td>-0.206010</td>\n",
       "      <td>0.502292</td>\n",
       "      <td>0.219422</td>\n",
       "      <td>0.215153</td>\n",
       "      <td>69.99</td>\n",
       "      <td>0</td>\n",
       "    </tr>\n",
       "  </tbody>\n",
       "</table>\n",
       "<p>5 rows × 31 columns</p>\n",
       "</div>"
      ],
      "text/plain": [
       "   Time        V1        V2        V3        V4        V5        V6        V7  \\\n",
       "0   0.0 -1.359807 -0.072781  2.536347  1.378155 -0.338321  0.462388  0.239599   \n",
       "1   0.0  1.191857  0.266151  0.166480  0.448154  0.060018 -0.082361 -0.078803   \n",
       "2   1.0 -1.358354 -1.340163  1.773209  0.379780 -0.503198  1.800499  0.791461   \n",
       "3   1.0 -0.966272 -0.185226  1.792993 -0.863291 -0.010309  1.247203  0.237609   \n",
       "4   2.0 -1.158233  0.877737  1.548718  0.403034 -0.407193  0.095921  0.592941   \n",
       "\n",
       "         V8        V9  ...         V21       V22       V23       V24  \\\n",
       "0  0.098698  0.363787  ...   -0.018307  0.277838 -0.110474  0.066928   \n",
       "1  0.085102 -0.255425  ...   -0.225775 -0.638672  0.101288 -0.339846   \n",
       "2  0.247676 -1.514654  ...    0.247998  0.771679  0.909412 -0.689281   \n",
       "3  0.377436 -1.387024  ...   -0.108300  0.005274 -0.190321 -1.175575   \n",
       "4 -0.270533  0.817739  ...   -0.009431  0.798278 -0.137458  0.141267   \n",
       "\n",
       "        V25       V26       V27       V28  Amount  Class  \n",
       "0  0.128539 -0.189115  0.133558 -0.021053  149.62      0  \n",
       "1  0.167170  0.125895 -0.008983  0.014724    2.69      0  \n",
       "2 -0.327642 -0.139097 -0.055353 -0.059752  378.66      0  \n",
       "3  0.647376 -0.221929  0.062723  0.061458  123.50      0  \n",
       "4 -0.206010  0.502292  0.219422  0.215153   69.99      0  \n",
       "\n",
       "[5 rows x 31 columns]"
      ]
     },
     "execution_count": 53,
     "metadata": {},
     "output_type": "execute_result"
    }
   ],
   "source": [
    "df.head(5)"
   ]
  },
  {
   "cell_type": "code",
   "execution_count": 54,
   "metadata": {
    "nbpresent": {
     "id": "61a0b726-a78b-4ea2-b566-e784a5e8e247"
    }
   },
   "outputs": [
    {
     "name": "stdout",
     "output_type": "stream",
     "text": [
      "\n",
      "Class\n",
      "0    284315\n",
      "1       492\n",
      "dtype: int64\n"
     ]
    }
   ],
   "source": [
    "# We would like to see what values we have for \"Class\". This snippet below shows that Class is a binary column.\n",
    "print()\n",
    "print(df.groupby('Class').size())"
   ]
  },
  {
   "cell_type": "markdown",
   "metadata": {
    "nbpresent": {
     "id": "9080320c-7e78-48d1-ad7e-2ea5dca97689"
    }
   },
   "source": [
    "### Feature and Target identification\n",
    "*\"Class\"* is our target and the rest of the columns are our features. Next we would like to understand values or clusters of *\"Class\"*.\n",
    "\n",
    "This tells us that we are predicting a binary target and this instead of linear regression, would should be performing a logistic regression or binary classification.\n",
    "\n",
    "So far we know that:\n",
    "- Of the 31 input dimentions, 30 are features and *'Class'* is the target.\n",
    "- The target is a binary prediction\n",
    "thus our lineare regression function would be defined as:\n",
    "\n",
    "$$\n",
    "f:\\mathbb{R}^{30} \\rightarrow \\{0, 1\\} \\\\\n",
    "f(x) = W_{30 \\times 1} V_{1 \\times 30} + b\n",
    "$$"
   ]
  },
  {
   "cell_type": "code",
   "execution_count": 55,
   "metadata": {
    "nbpresent": {
     "id": "aa379df1-1c5a-4daf-8140-5ef555557492"
    }
   },
   "outputs": [
    {
     "name": "stdout",
     "output_type": "stream",
     "text": [
      "0.1727485630620034% of transactions are fraudunat and 99.82725143693798% are legitimate\n"
     ]
    }
   ],
   "source": [
    "num_recs = df['Class'].count()\n",
    "num_zeros = df['Class'][df['Class']==0].count()\n",
    "num_ones = num_recs - num_zeros\n",
    "print(\"{}% of transactions are fraudunat and {}% are legitimate\".format((num_ones/num_recs)*100,\n",
    "                                                                       (num_zeros/num_recs*100)))\n"
   ]
  },
  {
   "cell_type": "markdown",
   "metadata": {},
   "source": [
    "### Data Normalization\n",
    "As the last observation we would like to check data distribution as whether or not the data is notmalized by plotting all the columns. We often would like the data to be within a comparable range with the same center and perhaps similar standard diviation, so numerical value ranges would not create bias towards some features. This however is not always the case. For instance if we would like one featire to have a bigger impact, we can simply let it. Below os the box plot from our data set. We can see that apart from 'Time' and 'Amount', the rest of the data is normalized, so I assume Visa wanted 'Time' and 'Amount' to have a much higher impact."
   ]
  },
  {
   "cell_type": "code",
   "execution_count": 56,
   "metadata": {},
   "outputs": [
    {
     "data": {
      "image/png": "[encoded data removed]",
      "text/plain": [
       "<matplotlib.figure.Figure at 0x7f1a0aa64390>"
      ]
     },
     "metadata": {},
     "output_type": "display_data"
    }
   ],
   "source": [
    "df.boxplot(figsize=(20, 10))\n",
    "plt.show()"
   ]
  },
  {
   "cell_type": "markdown",
   "metadata": {},
   "source": [
    "Dropping \"Time\", \"Amount\", and \"Class\", we can observer the distribution with greater detail. Here not all columns are centered aroung the same point (0 in this case)"
   ]
  },
  {
   "cell_type": "code",
   "execution_count": 57,
   "metadata": {},
   "outputs": [
    {
     "data": {
      "image/png": "[encoded data removed]",
      "text/plain": [
       "<matplotlib.figure.Figure at 0x7f19f2e9ed68>"
      ]
     },
     "metadata": {},
     "output_type": "display_data"
    }
   ],
   "source": [
    "df1 = df.drop(['Time', 'Amount', 'Class'], axis=1)\n",
    "df1.boxplot(figsize=(20, 10))\n",
    "plt.show()\n"
   ]
  },
  {
   "cell_type": "markdown",
   "metadata": {
    "nbpresent": {
     "id": "200a9d82-e6fd-436f-8ae9-40729478bdc4"
    }
   },
   "source": [
    "### Data Preparation\n",
    "Before attempting to prepare the data we would like to inspect distribution of fraud/not-fraud values for clss. We know from last two code snippets that **99.8** percent of our transactions are legitimate, so it is crucial to randomize distribution of Class==1 within the dataset, so we do not end up with a lumpy concentration of few Class==1 in a segment of dataset next to one another. \n",
    "To randomize distributoin of Class==1, we shuffle the data in the dataset.\n",
    "\n",
    "There are three issues with Class==1 being conentrated near one another:\n",
    "1. We might learn sequentional noise\n",
    "2. We might unlearn what we have learned as we move down the data.\n",
    "3. The dataset includes both training and validtion set and we need to split the data. with a distribution that is not normal and smooth, we might end up with most or all of Class==1 in training or validation.\n"
   ]
  },
  {
   "cell_type": "markdown",
   "metadata": {
    "nbpresent": {
     "id": "79e41734-3d36-45c6-887a-f28a8885b1de"
    }
   },
   "source": [
    "### Splitting the data to data and label\n",
    "Next we would need to prepare the data throgh the following steps.\n",
    "1. Convert tabular data to numpy, so that we can manipulate the data easier.\n",
    "2. Split the data to data and label, but moving the *\"Class\"* or indeed the last column of the numpy array to a new array."
   ]
  },
  {
   "cell_type": "code",
   "execution_count": 58,
   "metadata": {},
   "outputs": [
    {
     "name": "stdout",
     "output_type": "stream",
     "text": [
      "shape before split: (284807, 31); label_shape = (284807,); data_shape= (284807, 30)\n"
     ]
    }
   ],
   "source": [
    "#Converting Data Into Numpy\n",
    "\n",
    "raw_data = df.as_matrix()\n",
    "\n",
    "#Shuffling the data and randomizing the distrbution of the data\n",
    "#I have performed to shuffles and experimented with different seeds until the distribution \n",
    "#of Class==1 became acceptably smooth according to the graph below.\n",
    "\n",
    "np.random.seed(123)\n",
    "np.random.shuffle(raw_data)\n",
    "np.random.seed(499)\n",
    "np.random.shuffle(raw_data)\n",
    "\n",
    "\n",
    "label = raw_data[:, -1] #Taking last column of the data and creating a lanel vector\n",
    "data = raw_data[:, :-1] # Taking the remains of th da\n",
    "\n",
    "print(\"shape before split: {}; label_shape = {}; data_shape= {}\".format(raw_data.shape, label.shape, data.shape))"
   ]
  },
  {
   "cell_type": "markdown",
   "metadata": {
    "nbpresent": {
     "id": "3761a591-197b-4361-9247-f18a9c48fad0"
    }
   },
   "source": [
    "From previous snippet we see that the originl dataset includes 31 dimensional rows and now we have two vectors, the data vector with each row having a dimension of 30 and label is just a scalar.\n",
    "\n",
    "### Plotting distributino of Class==1 \n",
    "Next we would like to be sure that Class==1 records are distributed evenly within the dataset before we attempt to split the data to training and validation."
   ]
  },
  {
   "cell_type": "code",
   "execution_count": 59,
   "metadata": {
    "nbpresent": {
     "id": "96cec58b-0bac-49e0-a953-e291255266dd"
    }
   },
   "outputs": [
    {
     "data": {
      "image/png": "[encoded data removed]",
      "text/plain": [
       "<matplotlib.figure.Figure at 0x7f1a08b5d7f0>"
      ]
     },
     "metadata": {},
     "output_type": "display_data"
    }
   ],
   "source": [
    "# There are very few fraudulant transactions in the dataset, so I am putting their indexes in an array\n",
    "# to plot and ensure they are evenly distributed, so when I split the dataset into test and training \n",
    "# I don't end up with a dispropostionate distribution\n",
    "t = []\n",
    "for i in range(len(label)):\n",
    "    if label[i] == 1:\n",
    "        t.append(i)\n",
    "\n",
    "sns.distplot(t, kde=True, rug=True, hist=False)\n",
    "plt.show()"
   ]
  },
  {
   "cell_type": "markdown",
   "metadata": {
    "nbpresent": {
     "id": "be165513-bb4a-43d7-9aa5-65488d857855"
    }
   },
   "source": [
    "The plot above shows is the distribution of Class==1. the blue bar in the bottom (rug==True) shows us that Class==1 is evenly distributed within the range of the data [0..284807]\n",
    "From the plot above we can observe that "
   ]
  },
  {
   "cell_type": "markdown",
   "metadata": {
    "nbpresent": {
     "id": "6df550bf-9d75-47d7-a1b1-e712a0d13779"
    }
   },
   "source": [
    "### Splitting the dataset to train and validation\n",
    "Now that we are in posession of a good dataset, we cam proceed to splot the data into training and validation set. Here I have done a 70-30 split, you can choose whatever rate you find appropriage."
   ]
  },
  {
   "cell_type": "code",
   "execution_count": 60,
   "metadata": {
    "nbpresent": {
     "id": "f4fd3681-ecae-4a36-a05d-440e12f36e11"
    }
   },
   "outputs": [
    {
     "name": "stdout",
     "output_type": "stream",
     "text": [
      "training data shape= (199364, 30); training label shape = (199364,) \n",
      "Validation data shape= (85443, 30); validation label shape = (85443,)\n"
     ]
    }
   ],
   "source": [
    "#Splitting data into validation and training and breaking dataset into data and label\n",
    "\n",
    "#60%-40% training to validation\n",
    "train_size = int(data.shape[0]*0.7)\n",
    "\n",
    "#training data and associated labels\n",
    "train_data  = data[:train_size, :]\n",
    "val_data = data[train_size:, :]\n",
    "\n",
    "#validation data and associated labels\n",
    "train_label = label[:train_size]\n",
    "val_label = label[train_size:]\n",
    "\n",
    "\n",
    "print(\"training data shape= {}; training label shape = {} \\nValidation data shape= {}; validation label shape = {}\".format(train_data.shape, \n",
    "                                                                        train_label.shape,\n",
    "                                                                        val_data.shape,\n",
    "                                                                        val_label.shape))"
   ]
  },
  {
   "cell_type": "markdown",
   "metadata": {
    "nbpresent": {
     "id": "f7c3d16e-d839-4d89-a798-ffbd3f833a4a"
    }
   },
   "source": [
    "### Saving data for later use\n",
    "Here I strongly recommend to save the resulting data into files and uploading them to S3. This is a toy dataset and is quickly processed. In real-life pre-processing of the data could take a long time. I remember once I did pre-process a language corpus into vectors and did not save them. I had to later restart my notebooks server and lost all the value in notebook memory. This was 6 hours of wait time.\n",
    "The saving and uploading are performed in two separate steps:\n",
    "\n",
    "1. Saving the vectors, suing numpy.save, which saves the prepared vectors as npy objects. I have switched on pickle=True to use pickle serialization.\n",
    "2. Uploading the data from local (notebook server) to S3. I am using sgemaker.Session object, so that I the upload would be authorized to my S3 bucket. Output of sagemaker.upload_data indicates where the files are located. You can check your S3 bucket to ensure the upload is perfomed fully using"
   ]
  },
  {
   "cell_type": "code",
   "execution_count": 61,
   "metadata": {
    "nbpresent": {
     "id": "2e4fe77b-4eea-46ad-8504-d63c71b272cf"
    }
   },
   "outputs": [
    {
     "name": "stdout",
     "output_type": "stream",
     "text": [
      "data/processed/:\r\n",
      "test  train\r\n",
      "\r\n",
      "data/processed/test:\r\n",
      "val_data.npy  val_label.npy\r\n",
      "\r\n",
      "data/processed/train:\r\n",
      "train_data.npy\ttrain_label.npy\r\n"
     ]
    }
   ],
   "source": [
    "#Saving arrays for later use\n",
    "np.save('data/processed/train/train_data.npy', train_data, allow_pickle=True)\n",
    "np.save('data/processed/train/train_label.npy', train_label, allow_pickle=True)\n",
    "np.save('data/processed/test/val_data.npy', val_data, allow_pickle=True)\n",
    "np.save('data/processed/test/val_label.npy', val_label, allow_pickle=True)\n",
    "\n",
    "!ls -R data/processed/\n"
   ]
  },
  {
   "cell_type": "markdown",
   "metadata": {
    "nbpresent": {
     "id": "075a6150-b890-4b2a-a20a-5bb5ea56ffe4"
    }
   },
   "source": [
    "### SageMaker Process - Upload your data onto S3\n",
    "This could have been done outside of sagemaker as well. "
   ]
  },
  {
   "cell_type": "code",
   "execution_count": 62,
   "metadata": {
    "nbpresent": {
     "id": "2cca79c5-23e9-43a2-bed0-f77c61350bdc"
    }
   },
   "outputs": [
    {
     "name": "stdout",
     "output_type": "stream",
     "text": [
      "s3://cyrusmv-sagemaker-demos/visa-kaggle/data\n",
      "2018-01-04 12:19:10          0 visa-kaggle/data/\n",
      "2018-02-02 13:04:18   20506400 visa-kaggle/data/test/val_data.npy\n",
      "2018-02-02 13:04:18     683624 visa-kaggle/data/test/val_label.npy\n",
      "2018-02-02 13:04:17   47847440 visa-kaggle/data/train/train_data.npy\n",
      "2018-02-02 13:04:17    1594992 visa-kaggle/data/train/train_label.npy\n"
     ]
    }
   ],
   "source": [
    "#Uploading the data.\n",
    "'''\n",
    "path is the local path on your notbooks instance\n",
    "bucket is your bucket name\n",
    "key_prefix is your folder structure inside you S3 bucket\n",
    "'''\n",
    "S3loc = sagemaker_session.upload_data(path='data/processed/', bucket='cyrusmv-sagemaker-demos', key_prefix='visa-kaggle/data')\n",
    "print(S3loc)\n",
    "!aws s3 ls cyrusmv-sagemaker-demos/visa-kaggle/data/ --recursive #use the output from your own S3loc"
   ]
  },
  {
   "cell_type": "markdown",
   "metadata": {},
   "source": [
    "### Loading Data into Vectors\n",
    "We will need to have the train and validation data to be loaded into numpy vectors before oriessing them."
   ]
  },
  {
   "cell_type": "code",
   "execution_count": 63,
   "metadata": {
    "nbpresent": {
     "id": "ccfe3dd1-05b2-4f80-b070-23f0d21e5acf"
    }
   },
   "outputs": [
    {
     "name": "stdout",
     "output_type": "stream",
     "text": [
      "training data shape= (199364, 30); training label shape = (199364,) \n",
      "Validation data shape= (85443, 30); validation label shape = (85443,)\n"
     ]
    }
   ],
   "source": [
    "train_data = np.load('data/processed/train/train_data.npy')\n",
    "train_label = np.load('data/processed/train/train_label.npy')\n",
    "\n",
    "val_data = np.load('data/processed/test/val_data.npy')\n",
    "val_label = np.load('data/processed/test/val_label.npy')\n",
    "\n",
    "print(\"training data shape= {}; training label shape = {} \\nValidation data shape= {}; validation label shape = {}\".format(train_data.shape, \n",
    "                                                                        train_label.shape,\n",
    "                                                                        val_data.shape,\n",
    "                                                                        val_label.shape))\n",
    "train_set = (train_data, train_label)\n",
    "test_set = (val_data, val_label)\n"
   ]
  },
  {
   "cell_type": "markdown",
   "metadata": {
    "nbpresent": {
     "id": "86f20fc8-c59a-48fe-aca5-c6606b35c928"
    }
   },
   "source": [
    "### Data Conversion\n",
    "Amazon Algorithms support csv and recordio/protobuf. recordio is faster than CSV and specially in algorithms that deal with sparse matrices.\n",
    "In the below snippet I am using sagemaker.amazon.core library in order to convert my numpy arrays into protobuf recordIOx"
   ]
  },
  {
   "cell_type": "code",
   "execution_count": 85,
   "metadata": {
    "nbpresent": {
     "id": "2d5e169e-0b87-4156-b6dd-7abf5c8dbda8"
    }
   },
   "outputs": [
    {
     "data": {
      "text/plain": [
       "0"
      ]
     },
     "execution_count": 85,
     "metadata": {},
     "output_type": "execute_result"
    }
   ],
   "source": [
    "vectors = np.array([t.tolist() for t in train_set[0]]).astype('float32')\n",
    "labels = np.array([t.tolist() for t in train_set[1]]).astype('float32')\n",
    "\n",
    "buf = io.BytesIO()\n",
    "smac.write_numpy_to_dense_tensor(buf, vectors, labels)\n",
    "buf.seek(0)"
   ]
  },
  {
   "cell_type": "markdown",
   "metadata": {
    "nbpresent": {
     "id": "7bc9634c-7db3-4406-8f45-dfc64069a2c7"
    }
   },
   "source": [
    "### Upload training data\n",
    "Now that we've created our recordIO-wrapped protobuf, we'll need to upload it to S3, so that Amazon SageMaker training can use it."
   ]
  },
  {
   "cell_type": "code",
   "execution_count": 86,
   "metadata": {
    "nbpresent": {
     "id": "b7bfb4f2-b339-4dce-a1ac-6ce97d66967a"
    }
   },
   "outputs": [
    {
     "name": "stdout",
     "output_type": "stream",
     "text": [
      "uploaded training data location: s3://cyrusmv-sagemaker-demos/visa-kaggle/original.csv/train/recordio-pb-data\n"
     ]
    }
   ],
   "source": [
    "key = 'recordio-pb-data'\n",
    "boto3.resource('s3').Bucket(bucket).Object(os.path.join(prefix, 'train', key)).upload_fileobj(buf)\n",
    "s3_train_data = 's3://{}/{}/train/{}'.format(bucket, prefix, key)\n",
    "print('uploaded training data location: {}'.format(s3_train_data))"
   ]
  },
  {
   "cell_type": "markdown",
   "metadata": {
    "nbpresent": {
     "id": "bacac4be-72cb-492c-9963-a3d1a750ba64"
    }
   },
   "source": [
    "Let's also setup an output S3 location for the model artifact that will be output as the result of training with the algorithm."
   ]
  },
  {
   "cell_type": "code",
   "execution_count": 87,
   "metadata": {
    "nbpresent": {
     "id": "959f7129-dd4d-40c2-b025-98f334c52182"
    }
   },
   "outputs": [
    {
     "name": "stdout",
     "output_type": "stream",
     "text": [
      "training artifacts will be uploaded to: s3://cyrusmv-sagemaker-demos/visa-kaggle/original.csv/output\n"
     ]
    }
   ],
   "source": [
    "output_location = 's3://{}/{}/output'.format(bucket, prefix)\n",
    "print('training artifacts will be uploaded to: {}'.format(output_location))"
   ]
  },
  {
   "cell_type": "markdown",
   "metadata": {
    "nbpresent": {
     "id": "ce2c3941-055c-48da-a44a-acae10d538fe"
    }
   },
   "source": [
    "### End of Data Preparation Phase\n",
    "At this point we have a set of npy training and validation files in S3 and no longer need the local data. This tutorial up to here can be split into a separate notebook. In fact I strongly recommend that you should do this. Next we are going to train LinearLearnier model with the Visa dataset; but before that, let me get a little bit deeper into SageMaker and Amazon Algorithms."
   ]
  },
  {
   "cell_type": "markdown",
   "metadata": {
    "nbpresent": {
     "id": "6e407eaf-5b91-4d49-90c2-6d627674e902"
    }
   },
   "source": [
    "## SageMaker Proces - Training\n",
    "Before diving into the code, let us get a little bit under the hood of SageMaker ans see how it works. SageMaker python SDK has a few core Classes. The most important class hierarchy for training jobs is the EStimator class.\n",
    "\n",
    "The base class, EstimatorBase, has a method, called ```python fit()```. All classes that are derived from EstimatorBase implement ```python fit()```.\n",
    "\n",
    "Calling ```python fit()``` results in creating a training job, spinning up a training cluster, and training the model. Once the training is complete, the trained model artefacts will be saves in S3 and training cluster will be torn down.\n",
    "\n",
    "### Estimator Class Hierarchy\n",
    "Ignoring Frameworks and other bult-in algorithm we can see that EstimatorBase branches into two sections, general Estimator, used for calling dockerized models, and FrameWork from which Estimators class for using frameworks such as MXNet and TensorFlow are derived.\n",
    "![EstimatorHierarchy](https://github.com/cyrusmvahid/sagemaker-demos/raw/master/docs/images/classes_est_base.png)\n",
    "\n",
    "Training a model in SageMaker consists of creating an Estimator object, setting hyperparameters, setting hyperparameters and calling ```python fit()```. Later we review some of the more important hyperparameters.\n",
    "\n",
    "```python\n",
    "linear = sagemaker.estimator.Estimator(containers[boto3.Session().region_name],\n",
    "                                       role, #S3 role, so the notebook can read the data and upload the model\n",
    "                                       train_instance_count=1, #number of instances for training\n",
    "                                       train_instance_type='ml.p2.xlarge', # type of training instance\n",
    "                                       output_path=output_location, #s3 location for uploading trained mdoel\n",
    "                                       sagemaker_session=sess)\n",
    "linear.set_hyperparameters(feature_dim=30, #dataset has 30 columns (features)\n",
    "                           predictor_type='binary_classifier', # for regression set to regressor\n",
    "                           mini_batch_size=200)\n",
    "\n",
    "linear.fit({'train': s3_train_data})                                \n",
    "                                    \n",
    "```\n",
    "\n",
    "sagemaker python SDK code can be found in [github](https://github.com/aws/sagemaker-python-sdk). Exploring the code you can find another alternative to calling Estimator and passing your model image to it. in sagemaker-python-sdk/src/sagemaker/amazon/ you will find a different class hierarchy in which a new class, AmazonAlgorithmsEstimatorBase is derived directly from EstimatorBase. Each of the algorithms implements AmazonAlgorithmsEstimatorBase. For instance LinearLearner is a specific estimator based on this new superclass., however we do not need to use these estimators since genral estimator gives us a uniformed way of calling all dockerized, pre-trained algorithms. Below is teh class hierarchy for LinearLearner class.\n",
    "\n",
    "![estimator class](https://github.com/cyrusmvahid/sagemaker-demos/raw/master/docs/images/estimator_linearlearner.png)"
   ]
  },
  {
   "cell_type": "markdown",
   "metadata": {
    "nbpresent": {
     "id": "79ba5925-4fba-46fa-ae24-58c0139d5427"
    }
   },
   "source": [
    "## SageMaker Process - Training the model\n",
    "At this point we are using an linear learner from amazon algorithms. Docker file containing the model is located in multiple regions. We tool the following steps\n",
    "1. define containers\n",
    "2. Create am Estimator object and pass the hyper-parameters as well as the model location to it.\n",
    "3. run Estimator.fit to begin training the model"
   ]
  },
  {
   "cell_type": "code",
   "execution_count": 67,
   "metadata": {
    "collapsed": true,
    "nbpresent": {
     "id": "b3df9c71-d576-43e9-9c7c-1880055d0f6b"
    }
   },
   "outputs": [],
   "source": [
    "containers = {'us-west-2': '174872318107.dkr.ecr.us-west-2.amazonaws.com/linear-learner:latest',\n",
    "              'us-east-1': '382416733822.dkr.ecr.us-east-1.amazonaws.com/linear-learner:latest',\n",
    "              'us-east-2': '404615174143.dkr.ecr.us-east-2.amazonaws.com/linear-learner:latest',\n",
    "              'eu-west-1': '438346466558.dkr.ecr.eu-west-1.amazonaws.com/linear-learner:latest'}"
   ]
  },
  {
   "cell_type": "code",
   "execution_count": null,
   "metadata": {},
   "outputs": [
    {
     "name": "stderr",
     "output_type": "stream",
     "text": [
      "INFO:sagemaker:Creating training-job with name: linear-learner-2018-02-02-13-04-57-518\n"
     ]
    },
    {
     "name": "stdout",
     "output_type": "stream",
     "text": [
      "............................................................................\n",
      "\u001b[31mDocker entrypoint called with argument(s): train\u001b[0m\n",
      "\u001b[31m[02/02/2018 13:11:13 INFO 140372023547712] Reading default configuration from /opt/amazon/lib/python2.7/site-packages/algorithm/default-input.json: {u'epochs': u'10', u'init_bias': u'0.0', u'lr_scheduler_factor': u'0.99', u'num_calibration_samples': u'10000000', u'_num_kv_servers': u'auto', u'use_bias': u'true', u'num_point_for_scaler': u'10000', u'_log_level': u'info', u'bias_lr_mult': u'10', u'lr_scheduler_step': u'100', u'init_method': u'uniform', u'init_sigma': u'0.01', u'lr_scheduler_minimum_lr': u'0.00001', u'target_recall': u'0.8', u'num_models': u'32', u'momentum': u'0.0', u'unbias_label': u'auto', u'wd': u'0.0', u'optimizer': u'adam', u'learning_rate': u'auto', u'_kvstore': u'auto', u'normalize_data': u'true', u'binary_classifier_model_selection_criteria': u'accuracy', u'use_lr_scheduler': u'true', u'target_precision': u'0.8', u'force_dense': u'true', u'unbias_data': u'auto', u'init_scale': u'0.07', u'bias_wd_mult': u'0', u'mini_batch_size': u'1000', u'beta_1': u'0.9', u'loss': u'auto', u'beta_2': u'0.999', u'normalize_label': u'auto', u'_num_gpus': u'auto', u'_data_format': u'record', u'positive_example_weight_mult': u'1.0', u'l1': u'0.0'}\u001b[0m\n",
      "\u001b[31m[02/02/2018 13:11:13 INFO 140372023547712] Reading provided configuration from /opt/ml/input/config/hyperparameters.json: {u'feature_dim': u'30', u'mini_batch_size': u'200', u'predictor_type': u'binary_classifier'}\u001b[0m\n",
      "\u001b[31m[02/02/2018 13:11:13 INFO 140372023547712] Final configuration: {u'epochs': u'10', u'feature_dim': u'30', u'init_bias': u'0.0', u'lr_scheduler_factor': u'0.99', u'num_calibration_samples': u'10000000', u'_num_kv_servers': u'auto', u'use_bias': u'true', u'num_point_for_scaler': u'10000', u'_log_level': u'info', u'bias_lr_mult': u'10', u'lr_scheduler_step': u'100', u'init_method': u'uniform', u'init_sigma': u'0.01', u'lr_scheduler_minimum_lr': u'0.00001', u'target_recall': u'0.8', u'num_models': u'32', u'momentum': u'0.0', u'unbias_label': u'auto', u'wd': u'0.0', u'optimizer': u'adam', u'learning_rate': u'auto', u'_kvstore': u'auto', u'normalize_data': u'true', u'binary_classifier_model_selection_criteria': u'accuracy', u'use_lr_scheduler': u'true', u'target_precision': u'0.8', u'force_dense': u'true', u'unbias_data': u'auto', u'init_scale': u'0.07', u'bias_wd_mult': u'0', u'mini_batch_size': u'200', u'beta_1': u'0.9', u'loss': u'auto', u'beta_2': u'0.999', u'predictor_type': u'binary_classifier', u'normalize_label': u'auto', u'_num_gpus': u'auto', u'_data_format': u'record', u'positive_example_weight_mult': u'1.0', u'l1': u'0.0'}\u001b[0m\n",
      "\u001b[31m[02/02/2018 13:11:13 WARNING 140372023547712] Loggers have already been setup.\u001b[0m\n",
      "\u001b[31m[02/02/2018 13:11:13 INFO 140372023547712] Detected entry point for worker worker\u001b[0m\n",
      "\u001b[31m[02/02/2018 13:11:13 INFO 140372023547712] Loaded iterator creator application/x-recordio-protobuf for content type ('application/x-recordio-protobuf', '1.0')\u001b[0m\n",
      "\u001b[31m[02/02/2018 13:11:13 INFO 140372023547712] Create Store: local\u001b[0m\n",
      "\u001b[31m[02/02/2018 13:11:14 WARNING 140372023547712] wait_for_all_workers will not sync workers since the kv store is not running distributed\u001b[0m\n",
      "\u001b[31m[02/02/2018 13:11:14 INFO 140372023547712] nvidia-smi took: 0.0503540039062 secs to identify 1 gpus\u001b[0m\n",
      "\u001b[31m[02/02/2018 13:11:14 INFO 140372023547712] Number of GPUs being used: 1\u001b[0m\n",
      "\u001b[31m#metrics {\"Metrics\": {\"training_binary_classification_cross_entropy\": {\"count\": 1, \"max\": 0.03263369270267496, \"sum\": 0.03263369270267496, \"min\": 0.03263369270267496}, \"validation_binary_classification_cross_entropy\": {\"count\": 1, \"max\": -Infinity, \"sum\": NaN, \"min\": Infinity}}, \"EndTime\": 1517577115.504566, \"Dimensions\": {\"model\": 0, \"Host\": \"algo-1\", \"Operation\": \"training\", \"Algorithm\": \"Linear Learner\", \"epoch\": 1}, \"StartTime\": 1517577115.504433}\n",
      "\u001b[0m\n",
      "\u001b[31m#metrics {\"Metrics\": {\"training_binary_classification_cross_entropy\": {\"count\": 1, \"max\": 0.030974385090561277, \"sum\": 0.030974385090561277, \"min\": 0.030974385090561277}, \"validation_binary_classification_cross_entropy\": {\"count\": 1, \"max\": -Infinity, \"sum\": NaN, \"min\": Infinity}}, \"EndTime\": 1517577115.504688, \"Dimensions\": {\"model\": 1, \"Host\": \"algo-1\", \"Operation\": \"training\", \"Algorithm\": \"Linear Learner\", \"epoch\": 1}, \"StartTime\": 1517577115.504664}\n",
      "\u001b[0m\n",
      "\u001b[31m#metrics {\"Metrics\": {\"training_binary_classification_cross_entropy\": {\"count\": 1, \"max\": 0.032773735335912095, \"sum\": 0.032773735335912095, \"min\": 0.032773735335912095}, \"validation_binary_classification_cross_entropy\": {\"count\": 1, \"max\": -Infinity, \"sum\": NaN, \"min\": Infinity}}, \"EndTime\": 1517577115.504761, \"Dimensions\": {\"model\": 2, \"Host\": \"algo-1\", \"Operation\": \"training\", \"Algorithm\": \"Linear Learner\", \"epoch\": 1}, \"StartTime\": 1517577115.50474}\n",
      "\u001b[0m\n",
      "\u001b[31m#metrics {\"Metrics\": {\"training_binary_classification_cross_entropy\": {\"count\": 1, \"max\": 0.030927742364326393, \"sum\": 0.030927742364326393, \"min\": 0.030927742364326393}, \"validation_binary_classification_cross_entropy\": {\"count\": 1, \"max\": -Infinity, \"sum\": NaN, \"min\": Infinity}}, \"EndTime\": 1517577115.504827, \"Dimensions\": {\"model\": 3, \"Host\": \"algo-1\", \"Operation\": \"training\", \"Algorithm\": \"Linear Learner\", \"epoch\": 1}, \"StartTime\": 1517577115.504805}\n",
      "\u001b[0m\n",
      "\u001b[31m#metrics {\"Metrics\": {\"training_binary_classification_cross_entropy\": {\"count\": 1, \"max\": 0.008452769120735299, \"sum\": 0.008452769120735299, \"min\": 0.008452769120735299}, \"validation_binary_classification_cross_entropy\": {\"count\": 1, \"max\": -Infinity, \"sum\": NaN, \"min\": Infinity}}, \"EndTime\": 1517577115.50488, \"Dimensions\": {\"model\": 4, \"Host\": \"algo-1\", \"Operation\": \"training\", \"Algorithm\": \"Linear Learner\", \"epoch\": 1}, \"StartTime\": 1517577115.504861}\n",
      "\u001b[0m\n",
      "\u001b[31m#metrics {\"Metrics\": {\"training_binary_classification_cross_entropy\": {\"count\": 1, \"max\": 0.009712099996540343, \"sum\": 0.009712099996540343, \"min\": 0.009712099996540343}, \"validation_binary_classification_cross_entropy\": {\"count\": 1, \"max\": -Infinity, \"sum\": NaN, \"min\": Infinity}}, \"EndTime\": 1517577115.504932, \"Dimensions\": {\"model\": 5, \"Host\": \"algo-1\", \"Operation\": \"training\", \"Algorithm\": \"Linear Learner\", \"epoch\": 1}, \"StartTime\": 1517577115.504915}\n",
      "\u001b[0m\n",
      "\u001b[31m#metrics {\"Metrics\": {\"training_binary_classification_cross_entropy\": {\"count\": 1, \"max\": 0.008114031247633798, \"sum\": 0.008114031247633798, \"min\": 0.008114031247633798}, \"validation_binary_classification_cross_entropy\": {\"count\": 1, \"max\": -Infinity, \"sum\": NaN, \"min\": Infinity}}, \"EndTime\": 1517577115.504981, \"Dimensions\": {\"model\": 6, \"Host\": \"algo-1\", \"Operation\": \"training\", \"Algorithm\": \"Linear Learner\", \"epoch\": 1}, \"StartTime\": 1517577115.504963}\n",
      "\u001b[0m\n",
      "\u001b[31m#metrics {\"Metrics\": {\"training_binary_classification_cross_entropy\": {\"count\": 1, \"max\": 0.009226878358265777, \"sum\": 0.009226878358265777, \"min\": 0.009226878358265777}, \"validation_binary_classification_cross_entropy\": {\"count\": 1, \"max\": -Infinity, \"sum\": NaN, \"min\": Infinity}}, \"EndTime\": 1517577115.50503, \"Dimensions\": {\"model\": 7, \"Host\": \"algo-1\", \"Operation\": \"training\", \"Algorithm\": \"Linear Learner\", \"epoch\": 1}, \"StartTime\": 1517577115.505011}\n",
      "\u001b[0m\n",
      "\u001b[31m#metrics {\"Metrics\": {\"training_binary_classification_cross_entropy\": {\"count\": 1, \"max\": 0.03286949151461144, \"sum\": 0.03286949151461144, \"min\": 0.03286949151461144}, \"validation_binary_classification_cross_entropy\": {\"count\": 1, \"max\": -Infinity, \"sum\": NaN, \"min\": Infinity}}, \"EndTime\": 1517577115.505092, \"Dimensions\": {\"model\": 8, \"Host\": \"algo-1\", \"Operation\": \"training\", \"Algorithm\": \"Linear Learner\", \"epoch\": 1}, \"StartTime\": 1517577115.505072}\n",
      "\u001b[0m\n",
      "\u001b[31m#metrics {\"Metrics\": {\"training_binary_classification_cross_entropy\": {\"count\": 1, \"max\": 0.031155570906598165, \"sum\": 0.031155570906598165, \"min\": 0.031155570906598165}, \"validation_binary_classification_cross_entropy\": {\"count\": 1, \"max\": -Infinity, \"sum\": NaN, \"min\": Infinity}}, \"EndTime\": 1517577115.505148, \"Dimensions\": {\"model\": 9, \"Host\": \"algo-1\", \"Operation\": \"training\", \"Algorithm\": \"Linear Learner\", \"epoch\": 1}, \"StartTime\": 1517577115.50513}\n",
      "\u001b[0m\n",
      "\u001b[31m#metrics {\"Metrics\": {\"training_binary_classification_cross_entropy\": {\"count\": 1, \"max\": 0.03289758820759963, \"sum\": 0.03289758820759963, \"min\": 0.03289758820759963}, \"validation_binary_classification_cross_entropy\": {\"count\": 1, \"max\": -Infinity, \"sum\": NaN, \"min\": Infinity}}, \"EndTime\": 1517577115.505208, \"Dimensions\": {\"model\": 10, \"Host\": \"algo-1\", \"Operation\": \"training\", \"Algorithm\": \"Linear Learner\", \"epoch\": 1}, \"StartTime\": 1517577115.505189}\n",
      "\u001b[0m\n",
      "\u001b[31m#metrics {\"Metrics\": {\"training_binary_classification_cross_entropy\": {\"count\": 1, \"max\": 0.031166436637201943, \"sum\": 0.031166436637201943, \"min\": 0.031166436637201943}, \"validation_binary_classification_cross_entropy\": {\"count\": 1, \"max\": -Infinity, \"sum\": NaN, \"min\": Infinity}}, \"EndTime\": 1517577115.505277, \"Dimensions\": {\"model\": 11, \"Host\": \"algo-1\", \"Operation\": \"training\", \"Algorithm\": \"Linear Learner\", \"epoch\": 1}, \"StartTime\": 1517577115.505255}\n",
      "\u001b[0m\n",
      "\u001b[31m#metrics {\"Metrics\": {\"training_binary_classification_cross_entropy\": {\"count\": 1, \"max\": 0.007926067693563866, \"sum\": 0.007926067693563866, \"min\": 0.007926067693563866}, \"validation_binary_classification_cross_entropy\": {\"count\": 1, \"max\": -Infinity, \"sum\": NaN, \"min\": Infinity}}, \"EndTime\": 1517577115.505341, \"Dimensions\": {\"model\": 12, \"Host\": \"algo-1\", \"Operation\": \"training\", \"Algorithm\": \"Linear Learner\", \"epoch\": 1}, \"StartTime\": 1517577115.505323}\n",
      "\u001b[0m\n",
      "\u001b[31m#metrics {\"Metrics\": {\"training_binary_classification_cross_entropy\": {\"count\": 1, \"max\": 0.00871746794931239, \"sum\": 0.00871746794931239, \"min\": 0.00871746794931239}, \"validation_binary_classification_cross_entropy\": {\"count\": 1, \"max\": -Infinity, \"sum\": NaN, \"min\": Infinity}}, \"EndTime\": 1517577115.50539, \"Dimensions\": {\"model\": 13, \"Host\": \"algo-1\", \"Operation\": \"training\", \"Algorithm\": \"Linear Learner\", \"epoch\": 1}, \"StartTime\": 1517577115.505372}\n",
      "\u001b[0m\n",
      "\u001b[31m#metrics {\"Metrics\": {\"training_binary_classification_cross_entropy\": {\"count\": 1, \"max\": 0.007969699952738307, \"sum\": 0.007969699952738307, \"min\": 0.007969699952738307}, \"validation_binary_classification_cross_entropy\": {\"count\": 1, \"max\": -Infinity, \"sum\": NaN, \"min\": Infinity}}, \"EndTime\": 1517577115.505439, \"Dimensions\": {\"model\": 14, \"Host\": \"algo-1\", \"Operation\": \"training\", \"Algorithm\": \"Linear Learner\", \"epoch\": 1}, \"StartTime\": 1517577115.50542}\n",
      "\u001b[0m\n",
      "\u001b[31m#metrics {\"Metrics\": {\"training_binary_classification_cross_entropy\": {\"count\": 1, \"max\": 0.00866009907789966, \"sum\": 0.00866009907789966, \"min\": 0.00866009907789966}, \"validation_binary_classification_cross_entropy\": {\"count\": 1, \"max\": -Infinity, \"sum\": NaN, \"min\": Infinity}}, \"EndTime\": 1517577115.50552, \"Dimensions\": {\"model\": 15, \"Host\": \"algo-1\", \"Operation\": \"training\", \"Algorithm\": \"Linear Learner\", \"epoch\": 1}, \"StartTime\": 1517577115.505499}\n",
      "\u001b[0m\n",
      "\u001b[31m#metrics {\"Metrics\": {\"training_binary_classification_cross_entropy\": {\"count\": 1, \"max\": 0.03715733054322172, \"sum\": 0.03715733054322172, \"min\": 0.03715733054322172}, \"validation_binary_classification_cross_entropy\": {\"count\": 1, \"max\": -Infinity, \"sum\": NaN, \"min\": Infinity}}, \"EndTime\": 1517577115.505584, \"Dimensions\": {\"model\": 16, \"Host\": \"algo-1\", \"Operation\": \"training\", \"Algorithm\": \"Linear Learner\", \"epoch\": 1}, \"StartTime\": 1517577115.505563}\n",
      "\u001b[0m\n",
      "\u001b[31m#metrics {\"Metrics\": {\"training_binary_classification_cross_entropy\": {\"count\": 1, \"max\": 0.035650734449007425, \"sum\": 0.035650734449007425, \"min\": 0.035650734449007425}, \"validation_binary_classification_cross_entropy\": {\"count\": 1, \"max\": -Infinity, \"sum\": NaN, \"min\": Infinity}}, \"EndTime\": 1517577115.505647, \"Dimensions\": {\"model\": 17, \"Host\": \"algo-1\", \"Operation\": \"training\", \"Algorithm\": \"Linear Learner\", \"epoch\": 1}, \"StartTime\": 1517577115.505626}\n",
      "\u001b[0m\n",
      "\u001b[31m#metrics {\"Metrics\": {\"training_binary_classification_cross_entropy\": {\"count\": 1, \"max\": 0.03709540521075209, \"sum\": 0.03709540521075209, \"min\": 0.03709540521075209}, \"validation_binary_classification_cross_entropy\": {\"count\": 1, \"max\": -Infinity, \"sum\": NaN, \"min\": Infinity}}, \"EndTime\": 1517577115.505711, \"Dimensions\": {\"model\": 18, \"Host\": \"algo-1\", \"Operation\": \"training\", \"Algorithm\": \"Linear Learner\", \"epoch\": 1}, \"StartTime\": 1517577115.50569}\n",
      "\u001b[0m\n",
      "\u001b[31m#metrics {\"Metrics\": {\"training_binary_classification_cross_entropy\": {\"count\": 1, \"max\": 0.035670090340466865, \"sum\": 0.035670090340466865, \"min\": 0.035670090340466865}, \"validation_binary_classification_cross_entropy\": {\"count\": 1, \"max\": -Infinity, \"sum\": NaN, \"min\": Infinity}}, \"EndTime\": 1517577115.505765, \"Dimensions\": {\"model\": 19, \"Host\": \"algo-1\", \"Operation\": \"training\", \"Algorithm\": \"Linear Learner\", \"epoch\": 1}, \"StartTime\": 1517577115.505745}\n",
      "\u001b[0m\n",
      "\u001b[31m#metrics {\"Metrics\": {\"training_binary_classification_cross_entropy\": {\"count\": 1, \"max\": 0.013384296694895754, \"sum\": 0.013384296694895754, \"min\": 0.013384296694895754}, \"validation_binary_classification_cross_entropy\": {\"count\": 1, \"max\": -Infinity, \"sum\": NaN, \"min\": Infinity}}, \"EndTime\": 1517577115.505826, \"Dimensions\": {\"model\": 20, \"Host\": \"algo-1\", \"Operation\": \"training\", \"Algorithm\": \"Linear Learner\", \"epoch\": 1}, \"StartTime\": 1517577115.505806}\n",
      "\u001b[0m\n",
      "\u001b[31m#metrics {\"Metrics\": {\"training_binary_classification_cross_entropy\": {\"count\": 1, \"max\": 0.013402316943358025, \"sum\": 0.013402316943358025, \"min\": 0.013402316943358025}, \"validation_binary_classification_cross_entropy\": {\"count\": 1, \"max\": -Infinity, \"sum\": NaN, \"min\": Infinity}}, \"EndTime\": 1517577115.50588, \"Dimensions\": {\"model\": 21, \"Host\": \"algo-1\", \"Operation\": \"training\", \"Algorithm\": \"Linear Learner\", \"epoch\": 1}, \"StartTime\": 1517577115.505862}\n",
      "\u001b[0m\n",
      "\u001b[31m#metrics {\"Metrics\": {\"training_binary_classification_cross_entropy\": {\"count\": 1, \"max\": 0.013345350097326271, \"sum\": 0.013345350097326271, \"min\": 0.013345350097326271}, \"validation_binary_classification_cross_entropy\": {\"count\": 1, \"max\": -Infinity, \"sum\": NaN, \"min\": Infinity}}, \"EndTime\": 1517577115.505926, \"Dimensions\": {\"model\": 22, \"Host\": \"algo-1\", \"Operation\": \"training\", \"Algorithm\": \"Linear Learner\", \"epoch\": 1}, \"StartTime\": 1517577115.50591}\n",
      "\u001b[0m\n",
      "\u001b[31m#metrics {\"Metrics\": {\"training_binary_classification_cross_entropy\": {\"count\": 1, \"max\": 0.01341641724495363, \"sum\": 0.01341641724495363, \"min\": 0.01341641724495363}, \"validation_binary_classification_cross_entropy\": {\"count\": 1, \"max\": -Infinity, \"sum\": NaN, \"min\": Infinity}}, \"EndTime\": 1517577115.505972, \"Dimensions\": {\"model\": 23, \"Host\": \"algo-1\", \"Operation\": \"training\", \"Algorithm\": \"Linear Learner\", \"epoch\": 1}, \"StartTime\": 1517577115.505956}\n",
      "\u001b[0m\n",
      "\u001b[31m#metrics {\"Metrics\": {\"training_binary_classification_cross_entropy\": {\"count\": 1, \"max\": 0.03799945816427589, \"sum\": 0.03799945816427589, \"min\": 0.03799945816427589}, \"validation_binary_classification_cross_entropy\": {\"count\": 1, \"max\": -Infinity, \"sum\": NaN, \"min\": Infinity}}, \"EndTime\": 1517577115.506031, \"Dimensions\": {\"model\": 24, \"Host\": \"algo-1\", \"Operation\": \"training\", \"Algorithm\": \"Linear Learner\", \"epoch\": 1}, \"StartTime\": 1517577115.506012}\n",
      "\u001b[0m\n",
      "\u001b[31m#metrics {\"Metrics\": {\"training_binary_classification_cross_entropy\": {\"count\": 1, \"max\": 0.03650823699213175, \"sum\": 0.03650823699213175, \"min\": 0.03650823699213175}, \"validation_binary_classification_cross_entropy\": {\"count\": 1, \"max\": -Infinity, \"sum\": NaN, \"min\": Infinity}}, \"EndTime\": 1517577115.506089, \"Dimensions\": {\"model\": 25, \"Host\": \"algo-1\", \"Operation\": \"training\", \"Algorithm\": \"Linear Learner\", \"epoch\": 1}, \"StartTime\": 1517577115.50607}\n",
      "\u001b[0m\n",
      "\u001b[31m#metrics {\"Metrics\": {\"training_binary_classification_cross_entropy\": {\"count\": 1, \"max\": 0.03795243291042177, \"sum\": 0.03795243291042177, \"min\": 0.03795243291042177}, \"validation_binary_classification_cross_entropy\": {\"count\": 1, \"max\": -Infinity, \"sum\": NaN, \"min\": Infinity}}, \"EndTime\": 1517577115.506141, \"Dimensions\": {\"model\": 26, \"Host\": \"algo-1\", \"Operation\": \"training\", \"Algorithm\": \"Linear Learner\", \"epoch\": 1}, \"StartTime\": 1517577115.506123}\n",
      "\u001b[0m\n",
      "\u001b[31m#metrics {\"Metrics\": {\"training_binary_classification_cross_entropy\": {\"count\": 1, \"max\": 0.036523704892061803, \"sum\": 0.036523704892061803, \"min\": 0.036523704892061803}, \"validation_binary_classification_cross_entropy\": {\"count\": 1, \"max\": -Infinity, \"sum\": NaN, \"min\": Infinity}}, \"EndTime\": 1517577115.506202, \"Dimensions\": {\"model\": 27, \"Host\": \"algo-1\", \"Operation\": \"training\", \"Algorithm\": \"Linear Learner\", \"epoch\": 1}, \"StartTime\": 1517577115.506182}\n",
      "\u001b[0m\n",
      "\u001b[31m#metrics {\"Metrics\": {\"training_binary_classification_cross_entropy\": {\"count\": 1, \"max\": 0.014299934009266792, \"sum\": 0.014299934009266792, \"min\": 0.014299934009266792}, \"validation_binary_classification_cross_entropy\": {\"count\": 1, \"max\": -Infinity, \"sum\": NaN, \"min\": Infinity}}, \"EndTime\": 1517577115.506265, \"Dimensions\": {\"model\": 28, \"Host\": \"algo-1\", \"Operation\": \"training\", \"Algorithm\": \"Linear Learner\", \"epoch\": 1}, \"StartTime\": 1517577115.506245}\n",
      "\u001b[0m\n",
      "\u001b[31m#metrics {\"Metrics\": {\"training_binary_classification_cross_entropy\": {\"count\": 1, \"max\": 0.014330657201816317, \"sum\": 0.014330657201816317, \"min\": 0.014330657201816317}, \"validation_binary_classification_cross_entropy\": {\"count\": 1, \"max\": -Infinity, \"sum\": NaN, \"min\": Infinity}}, \"EndTime\": 1517577115.506317, \"Dimensions\": {\"model\": 29, \"Host\": \"algo-1\", \"Operation\": \"training\", \"Algorithm\": \"Linear Learner\", \"epoch\": 1}, \"StartTime\": 1517577115.506297}\n",
      "\u001b[0m\n",
      "\u001b[31m#metrics {\"Metrics\": {\"training_binary_classification_cross_entropy\": {\"count\": 1, \"max\": 0.014321291175807441, \"sum\": 0.014321291175807441, \"min\": 0.014321291175807441}, \"validation_binary_classification_cross_entropy\": {\"count\": 1, \"max\": -Infinity, \"sum\": NaN, \"min\": Infinity}}, \"EndTime\": 1517577115.506369, \"Dimensions\": {\"model\": 30, \"Host\": \"algo-1\", \"Operation\": \"training\", \"Algorithm\": \"Linear Learner\", \"epoch\": 1}, \"StartTime\": 1517577115.50635}\n",
      "\u001b[0m\n",
      "\u001b[31m#metrics {\"Metrics\": {\"training_binary_classification_cross_entropy\": {\"count\": 1, \"max\": 0.014324195084739925, \"sum\": 0.014324195084739925, \"min\": 0.014324195084739925}, \"validation_binary_classification_cross_entropy\": {\"count\": 1, \"max\": -Infinity, \"sum\": NaN, \"min\": Infinity}}, \"EndTime\": 1517577115.506434, \"Dimensions\": {\"model\": 31, \"Host\": \"algo-1\", \"Operation\": \"training\", \"Algorithm\": \"Linear Learner\", \"epoch\": 1}, \"StartTime\": 1517577115.506413}\n",
      "\u001b[0m\n"
     ]
    },
    {
     "name": "stdout",
     "output_type": "stream",
     "text": [
      "\u001b[31m#metrics {\"Metrics\": {\"training_binary_classification_cross_entropy\": {\"count\": 1, \"max\": 0.00566765322847419, \"sum\": 0.00566765322847419, \"min\": 0.00566765322847419}, \"validation_binary_classification_cross_entropy\": {\"count\": 1, \"max\": -Infinity, \"sum\": NaN, \"min\": Infinity}}, \"EndTime\": 1517577154.411906, \"Dimensions\": {\"model\": 0, \"Host\": \"algo-1\", \"Operation\": \"training\", \"Algorithm\": \"Linear Learner\", \"epoch\": 2}, \"StartTime\": 1517577154.411795}\n",
      "\u001b[0m\n",
      "\u001b[31m#metrics {\"Metrics\": {\"training_binary_classification_cross_entropy\": {\"count\": 1, \"max\": 0.004825514521464765, \"sum\": 0.004825514521464765, \"min\": 0.004825514521464765}, \"validation_binary_classification_cross_entropy\": {\"count\": 1, \"max\": -Infinity, \"sum\": NaN, \"min\": Infinity}}, \"EndTime\": 1517577154.412, \"Dimensions\": {\"model\": 1, \"Host\": \"algo-1\", \"Operation\": \"training\", \"Algorithm\": \"Linear Learner\", \"epoch\": 2}, \"StartTime\": 1517577154.411978}\n",
      "\u001b[0m\n",
      "\u001b[31m#metrics {\"Metrics\": {\"training_binary_classification_cross_entropy\": {\"count\": 1, \"max\": 0.005666983569392478, \"sum\": 0.005666983569392478, \"min\": 0.005666983569392478}, \"validation_binary_classification_cross_entropy\": {\"count\": 1, \"max\": -Infinity, \"sum\": NaN, \"min\": Infinity}}, \"EndTime\": 1517577154.412065, \"Dimensions\": {\"model\": 2, \"Host\": \"algo-1\", \"Operation\": \"training\", \"Algorithm\": \"Linear Learner\", \"epoch\": 2}, \"StartTime\": 1517577154.412046}\n",
      "\u001b[0m\n",
      "\u001b[31m#metrics {\"Metrics\": {\"training_binary_classification_cross_entropy\": {\"count\": 1, \"max\": 0.0048245666384786725, \"sum\": 0.0048245666384786725, \"min\": 0.0048245666384786725}, \"validation_binary_classification_cross_entropy\": {\"count\": 1, \"max\": -Infinity, \"sum\": NaN, \"min\": Infinity}}, \"EndTime\": 1517577154.412135, \"Dimensions\": {\"model\": 3, \"Host\": \"algo-1\", \"Operation\": \"training\", \"Algorithm\": \"Linear Learner\", \"epoch\": 2}, \"StartTime\": 1517577154.412112}\n",
      "\u001b[0m\n",
      "\u001b[31m#metrics {\"Metrics\": {\"training_binary_classification_cross_entropy\": {\"count\": 1, \"max\": 0.0049707523119321695, \"sum\": 0.0049707523119321695, \"min\": 0.0049707523119321695}, \"validation_binary_classification_cross_entropy\": {\"count\": 1, \"max\": -Infinity, \"sum\": NaN, \"min\": Infinity}}, \"EndTime\": 1517577154.41219, \"Dimensions\": {\"model\": 4, \"Host\": \"algo-1\", \"Operation\": \"training\", \"Algorithm\": \"Linear Learner\", \"epoch\": 2}, \"StartTime\": 1517577154.41217}\n",
      "\u001b[0m\n",
      "\u001b[31m#metrics {\"Metrics\": {\"training_binary_classification_cross_entropy\": {\"count\": 1, \"max\": 0.0086763582909537, \"sum\": 0.0086763582909537, \"min\": 0.0086763582909537}, \"validation_binary_classification_cross_entropy\": {\"count\": 1, \"max\": -Infinity, \"sum\": NaN, \"min\": Infinity}}, \"EndTime\": 1517577154.412248, \"Dimensions\": {\"model\": 5, \"Host\": \"algo-1\", \"Operation\": \"training\", \"Algorithm\": \"Linear Learner\", \"epoch\": 2}, \"StartTime\": 1517577154.412227}\n",
      "\u001b[0m\n",
      "\u001b[31m#metrics {\"Metrics\": {\"training_binary_classification_cross_entropy\": {\"count\": 1, \"max\": 0.00521647686925137, \"sum\": 0.00521647686925137, \"min\": 0.00521647686925137}, \"validation_binary_classification_cross_entropy\": {\"count\": 1, \"max\": -Infinity, \"sum\": NaN, \"min\": Infinity}}, \"EndTime\": 1517577154.412303, \"Dimensions\": {\"model\": 6, \"Host\": \"algo-1\", \"Operation\": \"training\", \"Algorithm\": \"Linear Learner\", \"epoch\": 2}, \"StartTime\": 1517577154.412284}\n",
      "\u001b[0m\n",
      "\u001b[31m#metrics {\"Metrics\": {\"training_binary_classification_cross_entropy\": {\"count\": 1, \"max\": 0.007678870179668914, \"sum\": 0.007678870179668914, \"min\": 0.007678870179668914}, \"validation_binary_classification_cross_entropy\": {\"count\": 1, \"max\": -Infinity, \"sum\": NaN, \"min\": Infinity}}, \"EndTime\": 1517577154.412357, \"Dimensions\": {\"model\": 7, \"Host\": \"algo-1\", \"Operation\": \"training\", \"Algorithm\": \"Linear Learner\", \"epoch\": 2}, \"StartTime\": 1517577154.412337}\n",
      "\u001b[0m\n",
      "\u001b[31m#metrics {\"Metrics\": {\"training_binary_classification_cross_entropy\": {\"count\": 1, \"max\": 0.0061606315728351775, \"sum\": 0.0061606315728351775, \"min\": 0.0061606315728351775}, \"validation_binary_classification_cross_entropy\": {\"count\": 1, \"max\": -Infinity, \"sum\": NaN, \"min\": Infinity}}, \"EndTime\": 1517577154.412411, \"Dimensions\": {\"model\": 8, \"Host\": \"algo-1\", \"Operation\": \"training\", \"Algorithm\": \"Linear Learner\", \"epoch\": 2}, \"StartTime\": 1517577154.412391}\n",
      "\u001b[0m\n",
      "\u001b[31m#metrics {\"Metrics\": {\"training_binary_classification_cross_entropy\": {\"count\": 1, \"max\": 0.0053956647170894595, \"sum\": 0.0053956647170894595, \"min\": 0.0053956647170894595}, \"validation_binary_classification_cross_entropy\": {\"count\": 1, \"max\": -Infinity, \"sum\": NaN, \"min\": Infinity}}, \"EndTime\": 1517577154.412467, \"Dimensions\": {\"model\": 9, \"Host\": \"algo-1\", \"Operation\": \"training\", \"Algorithm\": \"Linear Learner\", \"epoch\": 2}, \"StartTime\": 1517577154.412447}\n",
      "\u001b[0m\n",
      "\u001b[31m#metrics {\"Metrics\": {\"training_binary_classification_cross_entropy\": {\"count\": 1, \"max\": 0.006159367543536736, \"sum\": 0.006159367543536736, \"min\": 0.006159367543536736}, \"validation_binary_classification_cross_entropy\": {\"count\": 1, \"max\": -Infinity, \"sum\": NaN, \"min\": Infinity}}, \"EndTime\": 1517577154.41252, \"Dimensions\": {\"model\": 10, \"Host\": \"algo-1\", \"Operation\": \"training\", \"Algorithm\": \"Linear Learner\", \"epoch\": 2}, \"StartTime\": 1517577154.4125}\n",
      "\u001b[0m\n",
      "\u001b[31m#metrics {\"Metrics\": {\"training_binary_classification_cross_entropy\": {\"count\": 1, \"max\": 0.00539418336632381, \"sum\": 0.00539418336632381, \"min\": 0.00539418336632381}, \"validation_binary_classification_cross_entropy\": {\"count\": 1, \"max\": -Infinity, \"sum\": NaN, \"min\": Infinity}}, \"EndTime\": 1517577154.412574, \"Dimensions\": {\"model\": 11, \"Host\": \"algo-1\", \"Operation\": \"training\", \"Algorithm\": \"Linear Learner\", \"epoch\": 2}, \"StartTime\": 1517577154.412555}\n",
      "\u001b[0m\n",
      "\u001b[31m#metrics {\"Metrics\": {\"training_binary_classification_cross_entropy\": {\"count\": 1, \"max\": 0.005340294556572554, \"sum\": 0.005340294556572554, \"min\": 0.005340294556572554}, \"validation_binary_classification_cross_entropy\": {\"count\": 1, \"max\": -Infinity, \"sum\": NaN, \"min\": Infinity}}, \"EndTime\": 1517577154.412634, \"Dimensions\": {\"model\": 12, \"Host\": \"algo-1\", \"Operation\": \"training\", \"Algorithm\": \"Linear Learner\", \"epoch\": 2}, \"StartTime\": 1517577154.412613}\n",
      "\u001b[0m\n",
      "\u001b[31m#metrics {\"Metrics\": {\"training_binary_classification_cross_entropy\": {\"count\": 1, \"max\": 0.007432439326473239, \"sum\": 0.007432439326473239, \"min\": 0.007432439326473239}, \"validation_binary_classification_cross_entropy\": {\"count\": 1, \"max\": -Infinity, \"sum\": NaN, \"min\": Infinity}}, \"EndTime\": 1517577154.412695, \"Dimensions\": {\"model\": 13, \"Host\": \"algo-1\", \"Operation\": \"training\", \"Algorithm\": \"Linear Learner\", \"epoch\": 2}, \"StartTime\": 1517577154.412676}\n",
      "\u001b[0m\n",
      "\u001b[31m#metrics {\"Metrics\": {\"training_binary_classification_cross_entropy\": {\"count\": 1, \"max\": 0.005339804868883338, \"sum\": 0.005339804868883338, \"min\": 0.005339804868883338}, \"validation_binary_classification_cross_entropy\": {\"count\": 1, \"max\": -Infinity, \"sum\": NaN, \"min\": Infinity}}, \"EndTime\": 1517577154.41276, \"Dimensions\": {\"model\": 14, \"Host\": \"algo-1\", \"Operation\": \"training\", \"Algorithm\": \"Linear Learner\", \"epoch\": 2}, \"StartTime\": 1517577154.412739}\n",
      "\u001b[0m\n",
      "\u001b[31m#metrics {\"Metrics\": {\"training_binary_classification_cross_entropy\": {\"count\": 1, \"max\": 0.007413593718322016, \"sum\": 0.007413593718322016, \"min\": 0.007413593718322016}, \"validation_binary_classification_cross_entropy\": {\"count\": 1, \"max\": -Infinity, \"sum\": NaN, \"min\": Infinity}}, \"EndTime\": 1517577154.412827, \"Dimensions\": {\"model\": 15, \"Host\": \"algo-1\", \"Operation\": \"training\", \"Algorithm\": \"Linear Learner\", \"epoch\": 2}, \"StartTime\": 1517577154.412808}\n",
      "\u001b[0m\n",
      "\u001b[31m#metrics {\"Metrics\": {\"training_binary_classification_cross_entropy\": {\"count\": 1, \"max\": 0.012193860524150741, \"sum\": 0.012193860524150741, \"min\": 0.012193860524150741}, \"validation_binary_classification_cross_entropy\": {\"count\": 1, \"max\": -Infinity, \"sum\": NaN, \"min\": Infinity}}, \"EndTime\": 1517577154.4129, \"Dimensions\": {\"model\": 16, \"Host\": \"algo-1\", \"Operation\": \"training\", \"Algorithm\": \"Linear Learner\", \"epoch\": 2}, \"StartTime\": 1517577154.412879}\n",
      "\u001b[0m\n",
      "\u001b[31m#metrics {\"Metrics\": {\"training_binary_classification_cross_entropy\": {\"count\": 1, \"max\": 0.011884088968805759, \"sum\": 0.011884088968805759, \"min\": 0.011884088968805759}, \"validation_binary_classification_cross_entropy\": {\"count\": 1, \"max\": -Infinity, \"sum\": NaN, \"min\": Infinity}}, \"EndTime\": 1517577154.412975, \"Dimensions\": {\"model\": 17, \"Host\": \"algo-1\", \"Operation\": \"training\", \"Algorithm\": \"Linear Learner\", \"epoch\": 2}, \"StartTime\": 1517577154.412953}\n",
      "\u001b[0m\n",
      "\u001b[31m#metrics {\"Metrics\": {\"training_binary_classification_cross_entropy\": {\"count\": 1, \"max\": 0.012192488100274979, \"sum\": 0.012192488100274979, \"min\": 0.012192488100274979}, \"validation_binary_classification_cross_entropy\": {\"count\": 1, \"max\": -Infinity, \"sum\": NaN, \"min\": Infinity}}, \"EndTime\": 1517577154.41305, \"Dimensions\": {\"model\": 18, \"Host\": \"algo-1\", \"Operation\": \"training\", \"Algorithm\": \"Linear Learner\", \"epoch\": 2}, \"StartTime\": 1517577154.413029}\n",
      "\u001b[0m\n",
      "\u001b[31m#metrics {\"Metrics\": {\"training_binary_classification_cross_entropy\": {\"count\": 1, \"max\": 0.011884277911340616, \"sum\": 0.011884277911340616, \"min\": 0.011884277911340616}, \"validation_binary_classification_cross_entropy\": {\"count\": 1, \"max\": -Infinity, \"sum\": NaN, \"min\": Infinity}}, \"EndTime\": 1517577154.413124, \"Dimensions\": {\"model\": 19, \"Host\": \"algo-1\", \"Operation\": \"training\", \"Algorithm\": \"Linear Learner\", \"epoch\": 2}, \"StartTime\": 1517577154.413102}\n",
      "\u001b[0m\n",
      "\u001b[31m#metrics {\"Metrics\": {\"training_binary_classification_cross_entropy\": {\"count\": 1, \"max\": 0.011849327047680875, \"sum\": 0.011849327047680875, \"min\": 0.011849327047680875}, \"validation_binary_classification_cross_entropy\": {\"count\": 1, \"max\": -Infinity, \"sum\": NaN, \"min\": Infinity}}, \"EndTime\": 1517577154.413194, \"Dimensions\": {\"model\": 20, \"Host\": \"algo-1\", \"Operation\": \"training\", \"Algorithm\": \"Linear Learner\", \"epoch\": 2}, \"StartTime\": 1517577154.413172}\n",
      "\u001b[0m\n",
      "\u001b[31m#metrics {\"Metrics\": {\"training_binary_classification_cross_entropy\": {\"count\": 1, \"max\": 0.011949613040320606, \"sum\": 0.011949613040320606, \"min\": 0.011949613040320606}, \"validation_binary_classification_cross_entropy\": {\"count\": 1, \"max\": -Infinity, \"sum\": NaN, \"min\": Infinity}}, \"EndTime\": 1517577154.413266, \"Dimensions\": {\"model\": 21, \"Host\": \"algo-1\", \"Operation\": \"training\", \"Algorithm\": \"Linear Learner\", \"epoch\": 2}, \"StartTime\": 1517577154.413245}\n",
      "\u001b[0m\n",
      "\u001b[31m#metrics {\"Metrics\": {\"training_binary_classification_cross_entropy\": {\"count\": 1, \"max\": 0.011849455941229102, \"sum\": 0.011849455941229102, \"min\": 0.011849455941229102}, \"validation_binary_classification_cross_entropy\": {\"count\": 1, \"max\": -Infinity, \"sum\": NaN, \"min\": Infinity}}, \"EndTime\": 1517577154.413336, \"Dimensions\": {\"model\": 22, \"Host\": \"algo-1\", \"Operation\": \"training\", \"Algorithm\": \"Linear Learner\", \"epoch\": 2}, \"StartTime\": 1517577154.413316}\n",
      "\u001b[0m\n",
      "\u001b[31m#metrics {\"Metrics\": {\"training_binary_classification_cross_entropy\": {\"count\": 1, \"max\": 0.011950119394494826, \"sum\": 0.011950119394494826, \"min\": 0.011950119394494826}, \"validation_binary_classification_cross_entropy\": {\"count\": 1, \"max\": -Infinity, \"sum\": NaN, \"min\": Infinity}}, \"EndTime\": 1517577154.413387, \"Dimensions\": {\"model\": 23, \"Host\": \"algo-1\", \"Operation\": \"training\", \"Algorithm\": \"Linear Learner\", \"epoch\": 2}, \"StartTime\": 1517577154.413374}\n",
      "\u001b[0m\n",
      "\u001b[31m#metrics {\"Metrics\": {\"training_binary_classification_cross_entropy\": {\"count\": 1, \"max\": 0.013074348761015629, \"sum\": 0.013074348761015629, \"min\": 0.013074348761015629}, \"validation_binary_classification_cross_entropy\": {\"count\": 1, \"max\": -Infinity, \"sum\": NaN, \"min\": Infinity}}, \"EndTime\": 1517577154.41344, \"Dimensions\": {\"model\": 24, \"Host\": \"algo-1\", \"Operation\": \"training\", \"Algorithm\": \"Linear Learner\", \"epoch\": 2}, \"StartTime\": 1517577154.413426}\n",
      "\u001b[0m\n",
      "\u001b[31m#metrics {\"Metrics\": {\"training_binary_classification_cross_entropy\": {\"count\": 1, \"max\": 0.01275176924230703, \"sum\": 0.01275176924230703, \"min\": 0.01275176924230703}, \"validation_binary_classification_cross_entropy\": {\"count\": 1, \"max\": -Infinity, \"sum\": NaN, \"min\": Infinity}}, \"EndTime\": 1517577154.413529, \"Dimensions\": {\"model\": 25, \"Host\": \"algo-1\", \"Operation\": \"training\", \"Algorithm\": \"Linear Learner\", \"epoch\": 2}, \"StartTime\": 1517577154.413507}\n",
      "\u001b[0m\n",
      "\u001b[31m#metrics {\"Metrics\": {\"training_binary_classification_cross_entropy\": {\"count\": 1, \"max\": 0.013074506374906345, \"sum\": 0.013074506374906345, \"min\": 0.013074506374906345}, \"validation_binary_classification_cross_entropy\": {\"count\": 1, \"max\": -Infinity, \"sum\": NaN, \"min\": Infinity}}, \"EndTime\": 1517577154.413598, \"Dimensions\": {\"model\": 26, \"Host\": \"algo-1\", \"Operation\": \"training\", \"Algorithm\": \"Linear Learner\", \"epoch\": 2}, \"StartTime\": 1517577154.413576}\n",
      "\u001b[0m\n",
      "\u001b[31m#metrics {\"Metrics\": {\"training_binary_classification_cross_entropy\": {\"count\": 1, \"max\": 0.01275279399591038, \"sum\": 0.01275279399591038, \"min\": 0.01275279399591038}, \"validation_binary_classification_cross_entropy\": {\"count\": 1, \"max\": -Infinity, \"sum\": NaN, \"min\": Infinity}}, \"EndTime\": 1517577154.413666, \"Dimensions\": {\"model\": 27, \"Host\": \"algo-1\", \"Operation\": \"training\", \"Algorithm\": \"Linear Learner\", \"epoch\": 2}, \"StartTime\": 1517577154.413645}\n",
      "\u001b[0m\n",
      "\u001b[31m#metrics {\"Metrics\": {\"training_binary_classification_cross_entropy\": {\"count\": 1, \"max\": 0.012768974799483296, \"sum\": 0.012768974799483296, \"min\": 0.012768974799483296}, \"validation_binary_classification_cross_entropy\": {\"count\": 1, \"max\": -Infinity, \"sum\": NaN, \"min\": Infinity}}, \"EndTime\": 1517577154.41374, \"Dimensions\": {\"model\": 28, \"Host\": \"algo-1\", \"Operation\": \"training\", \"Algorithm\": \"Linear Learner\", \"epoch\": 2}, \"StartTime\": 1517577154.413717}\n",
      "\u001b[0m\n",
      "\u001b[31m#metrics {\"Metrics\": {\"training_binary_classification_cross_entropy\": {\"count\": 1, \"max\": 0.012907124255076948, \"sum\": 0.012907124255076948, \"min\": 0.012907124255076948}, \"validation_binary_classification_cross_entropy\": {\"count\": 1, \"max\": -Infinity, \"sum\": NaN, \"min\": Infinity}}, \"EndTime\": 1517577154.413807, \"Dimensions\": {\"model\": 29, \"Host\": \"algo-1\", \"Operation\": \"training\", \"Algorithm\": \"Linear Learner\", \"epoch\": 2}, \"StartTime\": 1517577154.413786}\n",
      "\u001b[0m\n",
      "\u001b[31m#metrics {\"Metrics\": {\"training_binary_classification_cross_entropy\": {\"count\": 1, \"max\": 0.01276839598781433, \"sum\": 0.01276839598781433, \"min\": 0.01276839598781433}, \"validation_binary_classification_cross_entropy\": {\"count\": 1, \"max\": -Infinity, \"sum\": NaN, \"min\": Infinity}}, \"EndTime\": 1517577154.413877, \"Dimensions\": {\"model\": 30, \"Host\": \"algo-1\", \"Operation\": \"training\", \"Algorithm\": \"Linear Learner\", \"epoch\": 2}, \"StartTime\": 1517577154.413855}\n",
      "\u001b[0m\n",
      "\u001b[31m#metrics {\"Metrics\": {\"training_binary_classification_cross_entropy\": {\"count\": 1, \"max\": 0.01290260336623643, \"sum\": 0.01290260336623643, \"min\": 0.01290260336623643}, \"validation_binary_classification_cross_entropy\": {\"count\": 1, \"max\": -Infinity, \"sum\": NaN, \"min\": Infinity}}, \"EndTime\": 1517577154.413945, \"Dimensions\": {\"model\": 31, \"Host\": \"algo-1\", \"Operation\": \"training\", \"Algorithm\": \"Linear Learner\", \"epoch\": 2}, \"StartTime\": 1517577154.413924}\n",
      "\u001b[0m\n"
     ]
    },
    {
     "name": "stdout",
     "output_type": "stream",
     "text": [
      "\u001b[31m#metrics {\"Metrics\": {\"training_binary_classification_cross_entropy\": {\"count\": 1, \"max\": 0.0049351280024013365, \"sum\": 0.0049351280024013365, \"min\": 0.0049351280024013365}, \"validation_binary_classification_cross_entropy\": {\"count\": 1, \"max\": -Infinity, \"sum\": NaN, \"min\": Infinity}}, \"EndTime\": 1517577193.372808, \"Dimensions\": {\"model\": 0, \"Host\": \"algo-1\", \"Operation\": \"training\", \"Algorithm\": \"Linear Learner\", \"epoch\": 3}, \"StartTime\": 1517577193.372699}\n",
      "\u001b[0m\n",
      "\u001b[31m#metrics {\"Metrics\": {\"training_binary_classification_cross_entropy\": {\"count\": 1, \"max\": 0.004272033306152885, \"sum\": 0.004272033306152885, \"min\": 0.004272033306152885}, \"validation_binary_classification_cross_entropy\": {\"count\": 1, \"max\": -Infinity, \"sum\": NaN, \"min\": Infinity}}, \"EndTime\": 1517577193.372896, \"Dimensions\": {\"model\": 1, \"Host\": \"algo-1\", \"Operation\": \"training\", \"Algorithm\": \"Linear Learner\", \"epoch\": 3}, \"StartTime\": 1517577193.37288}\n",
      "\u001b[0m\n",
      "\u001b[31m#metrics {\"Metrics\": {\"training_binary_classification_cross_entropy\": {\"count\": 1, \"max\": 0.004935854248941902, \"sum\": 0.004935854248941902, \"min\": 0.004935854248941902}, \"validation_binary_classification_cross_entropy\": {\"count\": 1, \"max\": -Infinity, \"sum\": NaN, \"min\": Infinity}}, \"EndTime\": 1517577193.372965, \"Dimensions\": {\"model\": 2, \"Host\": \"algo-1\", \"Operation\": \"training\", \"Algorithm\": \"Linear Learner\", \"epoch\": 3}, \"StartTime\": 1517577193.372946}\n",
      "\u001b[0m\n",
      "\u001b[31m#metrics {\"Metrics\": {\"training_binary_classification_cross_entropy\": {\"count\": 1, \"max\": 0.004272103815163714, \"sum\": 0.004272103815163714, \"min\": 0.004272103815163714}, \"validation_binary_classification_cross_entropy\": {\"count\": 1, \"max\": -Infinity, \"sum\": NaN, \"min\": Infinity}}, \"EndTime\": 1517577193.373018, \"Dimensions\": {\"model\": 3, \"Host\": \"algo-1\", \"Operation\": \"training\", \"Algorithm\": \"Linear Learner\", \"epoch\": 3}, \"StartTime\": 1517577193.373005}\n",
      "\u001b[0m\n",
      "\u001b[31m#metrics {\"Metrics\": {\"training_binary_classification_cross_entropy\": {\"count\": 1, \"max\": 0.0044202055972832515, \"sum\": 0.0044202055972832515, \"min\": 0.0044202055972832515}, \"validation_binary_classification_cross_entropy\": {\"count\": 1, \"max\": -Infinity, \"sum\": NaN, \"min\": Infinity}}, \"EndTime\": 1517577193.373075, \"Dimensions\": {\"model\": 4, \"Host\": \"algo-1\", \"Operation\": \"training\", \"Algorithm\": \"Linear Learner\", \"epoch\": 3}, \"StartTime\": 1517577193.37306}\n",
      "\u001b[0m\n",
      "\u001b[31m#metrics {\"Metrics\": {\"training_binary_classification_cross_entropy\": {\"count\": 1, \"max\": 0.007794465139869357, \"sum\": 0.007794465139869357, \"min\": 0.007794465139869357}, \"validation_binary_classification_cross_entropy\": {\"count\": 1, \"max\": -Infinity, \"sum\": NaN, \"min\": Infinity}}, \"EndTime\": 1517577193.373137, \"Dimensions\": {\"model\": 5, \"Host\": \"algo-1\", \"Operation\": \"training\", \"Algorithm\": \"Linear Learner\", \"epoch\": 3}, \"StartTime\": 1517577193.373118}\n",
      "\u001b[0m\n",
      "\u001b[31m#metrics {\"Metrics\": {\"training_binary_classification_cross_entropy\": {\"count\": 1, \"max\": 0.004565744502974831, \"sum\": 0.004565744502974831, \"min\": 0.004565744502974831}, \"validation_binary_classification_cross_entropy\": {\"count\": 1, \"max\": -Infinity, \"sum\": NaN, \"min\": Infinity}}, \"EndTime\": 1517577193.373201, \"Dimensions\": {\"model\": 6, \"Host\": \"algo-1\", \"Operation\": \"training\", \"Algorithm\": \"Linear Learner\", \"epoch\": 3}, \"StartTime\": 1517577193.373181}\n",
      "\u001b[0m\n",
      "\u001b[31m#metrics {\"Metrics\": {\"training_binary_classification_cross_entropy\": {\"count\": 1, \"max\": 0.008612318923995804, \"sum\": 0.008612318923995804, \"min\": 0.008612318923995804}, \"validation_binary_classification_cross_entropy\": {\"count\": 1, \"max\": -Infinity, \"sum\": NaN, \"min\": Infinity}}, \"EndTime\": 1517577193.373268, \"Dimensions\": {\"model\": 7, \"Host\": \"algo-1\", \"Operation\": \"training\", \"Algorithm\": \"Linear Learner\", \"epoch\": 3}, \"StartTime\": 1517577193.373246}\n",
      "\u001b[0m\n",
      "\u001b[31m#metrics {\"Metrics\": {\"training_binary_classification_cross_entropy\": {\"count\": 1, \"max\": 0.005545444291638562, \"sum\": 0.005545444291638562, \"min\": 0.005545444291638562}, \"validation_binary_classification_cross_entropy\": {\"count\": 1, \"max\": -Infinity, \"sum\": NaN, \"min\": Infinity}}, \"EndTime\": 1517577193.373335, \"Dimensions\": {\"model\": 8, \"Host\": \"algo-1\", \"Operation\": \"training\", \"Algorithm\": \"Linear Learner\", \"epoch\": 3}, \"StartTime\": 1517577193.373314}\n",
      "\u001b[0m\n",
      "\u001b[31m#metrics {\"Metrics\": {\"training_binary_classification_cross_entropy\": {\"count\": 1, \"max\": 0.0050756078201484485, \"sum\": 0.0050756078201484485, \"min\": 0.0050756078201484485}, \"validation_binary_classification_cross_entropy\": {\"count\": 1, \"max\": -Infinity, \"sum\": NaN, \"min\": Infinity}}, \"EndTime\": 1517577193.373427, \"Dimensions\": {\"model\": 9, \"Host\": \"algo-1\", \"Operation\": \"training\", \"Algorithm\": \"Linear Learner\", \"epoch\": 3}, \"StartTime\": 1517577193.37338}\n",
      "\u001b[0m\n",
      "\u001b[31m#metrics {\"Metrics\": {\"training_binary_classification_cross_entropy\": {\"count\": 1, \"max\": 0.005544711826256959, \"sum\": 0.005544711826256959, \"min\": 0.005544711826256959}, \"validation_binary_classification_cross_entropy\": {\"count\": 1, \"max\": -Infinity, \"sum\": NaN, \"min\": Infinity}}, \"EndTime\": 1517577193.373487, \"Dimensions\": {\"model\": 10, \"Host\": \"algo-1\", \"Operation\": \"training\", \"Algorithm\": \"Linear Learner\", \"epoch\": 3}, \"StartTime\": 1517577193.373471}\n",
      "\u001b[0m\n",
      "\u001b[31m#metrics {\"Metrics\": {\"training_binary_classification_cross_entropy\": {\"count\": 1, \"max\": 0.005074913631376612, \"sum\": 0.005074913631376612, \"min\": 0.005074913631376612}, \"validation_binary_classification_cross_entropy\": {\"count\": 1, \"max\": -Infinity, \"sum\": NaN, \"min\": Infinity}}, \"EndTime\": 1517577193.373554, \"Dimensions\": {\"model\": 11, \"Host\": \"algo-1\", \"Operation\": \"training\", \"Algorithm\": \"Linear Learner\", \"epoch\": 3}, \"StartTime\": 1517577193.373532}\n",
      "\u001b[0m\n",
      "\u001b[31m#metrics {\"Metrics\": {\"training_binary_classification_cross_entropy\": {\"count\": 1, \"max\": 0.005148838016589782, \"sum\": 0.005148838016589782, \"min\": 0.005148838016589782}, \"validation_binary_classification_cross_entropy\": {\"count\": 1, \"max\": -Infinity, \"sum\": NaN, \"min\": Infinity}}, \"EndTime\": 1517577193.37363, \"Dimensions\": {\"model\": 12, \"Host\": \"algo-1\", \"Operation\": \"training\", \"Algorithm\": \"Linear Learner\", \"epoch\": 3}, \"StartTime\": 1517577193.373607}\n",
      "\u001b[0m\n",
      "\u001b[31m#metrics {\"Metrics\": {\"training_binary_classification_cross_entropy\": {\"count\": 1, \"max\": 0.007153346891562645, \"sum\": 0.007153346891562645, \"min\": 0.007153346891562645}, \"validation_binary_classification_cross_entropy\": {\"count\": 1, \"max\": -Infinity, \"sum\": NaN, \"min\": Infinity}}, \"EndTime\": 1517577193.373703, \"Dimensions\": {\"model\": 13, \"Host\": \"algo-1\", \"Operation\": \"training\", \"Algorithm\": \"Linear Learner\", \"epoch\": 3}, \"StartTime\": 1517577193.373681}\n",
      "\u001b[0m\n",
      "\u001b[31m#metrics {\"Metrics\": {\"training_binary_classification_cross_entropy\": {\"count\": 1, \"max\": 0.005148872248229971, \"sum\": 0.005148872248229971, \"min\": 0.005148872248229971}, \"validation_binary_classification_cross_entropy\": {\"count\": 1, \"max\": -Infinity, \"sum\": NaN, \"min\": Infinity}}, \"EndTime\": 1517577193.373776, \"Dimensions\": {\"model\": 14, \"Host\": \"algo-1\", \"Operation\": \"training\", \"Algorithm\": \"Linear Learner\", \"epoch\": 3}, \"StartTime\": 1517577193.373755}\n",
      "\u001b[0m\n",
      "\u001b[31m#metrics {\"Metrics\": {\"training_binary_classification_cross_entropy\": {\"count\": 1, \"max\": 0.007180838037523475, \"sum\": 0.007180838037523475, \"min\": 0.007180838037523475}, \"validation_binary_classification_cross_entropy\": {\"count\": 1, \"max\": -Infinity, \"sum\": NaN, \"min\": Infinity}}, \"EndTime\": 1517577193.373848, \"Dimensions\": {\"model\": 15, \"Host\": \"algo-1\", \"Operation\": \"training\", \"Algorithm\": \"Linear Learner\", \"epoch\": 3}, \"StartTime\": 1517577193.373826}\n",
      "\u001b[0m\n",
      "\u001b[31m#metrics {\"Metrics\": {\"training_binary_classification_cross_entropy\": {\"count\": 1, \"max\": 0.011892645097670546, \"sum\": 0.011892645097670546, \"min\": 0.011892645097670546}, \"validation_binary_classification_cross_entropy\": {\"count\": 1, \"max\": -Infinity, \"sum\": NaN, \"min\": Infinity}}, \"EndTime\": 1517577193.373919, \"Dimensions\": {\"model\": 16, \"Host\": \"algo-1\", \"Operation\": \"training\", \"Algorithm\": \"Linear Learner\", \"epoch\": 3}, \"StartTime\": 1517577193.373898}\n",
      "\u001b[0m\n",
      "\u001b[31m#metrics {\"Metrics\": {\"training_binary_classification_cross_entropy\": {\"count\": 1, \"max\": 0.011835506676310994, \"sum\": 0.011835506676310994, \"min\": 0.011835506676310994}, \"validation_binary_classification_cross_entropy\": {\"count\": 1, \"max\": -Infinity, \"sum\": NaN, \"min\": Infinity}}, \"EndTime\": 1517577193.373973, \"Dimensions\": {\"model\": 17, \"Host\": \"algo-1\", \"Operation\": \"training\", \"Algorithm\": \"Linear Learner\", \"epoch\": 3}, \"StartTime\": 1517577193.373953}\n",
      "\u001b[0m\n",
      "\u001b[31m#metrics {\"Metrics\": {\"training_binary_classification_cross_entropy\": {\"count\": 1, \"max\": 0.011892130361742763, \"sum\": 0.011892130361742763, \"min\": 0.011892130361742763}, \"validation_binary_classification_cross_entropy\": {\"count\": 1, \"max\": -Infinity, \"sum\": NaN, \"min\": Infinity}}, \"EndTime\": 1517577193.37403, \"Dimensions\": {\"model\": 18, \"Host\": \"algo-1\", \"Operation\": \"training\", \"Algorithm\": \"Linear Learner\", \"epoch\": 3}, \"StartTime\": 1517577193.37401}\n",
      "\u001b[0m\n",
      "\u001b[31m#metrics {\"Metrics\": {\"training_binary_classification_cross_entropy\": {\"count\": 1, \"max\": 0.01183551148193548, \"sum\": 0.01183551148193548, \"min\": 0.01183551148193548}, \"validation_binary_classification_cross_entropy\": {\"count\": 1, \"max\": -Infinity, \"sum\": NaN, \"min\": Infinity}}, \"EndTime\": 1517577193.374093, \"Dimensions\": {\"model\": 19, \"Host\": \"algo-1\", \"Operation\": \"training\", \"Algorithm\": \"Linear Learner\", \"epoch\": 3}, \"StartTime\": 1517577193.37407}\n",
      "\u001b[0m\n",
      "\u001b[31m#metrics {\"Metrics\": {\"training_binary_classification_cross_entropy\": {\"count\": 1, \"max\": 0.011886852898870606, \"sum\": 0.011886852898870606, \"min\": 0.011886852898870606}, \"validation_binary_classification_cross_entropy\": {\"count\": 1, \"max\": -Infinity, \"sum\": NaN, \"min\": Infinity}}, \"EndTime\": 1517577193.37416, \"Dimensions\": {\"model\": 20, \"Host\": \"algo-1\", \"Operation\": \"training\", \"Algorithm\": \"Linear Learner\", \"epoch\": 3}, \"StartTime\": 1517577193.374139}\n",
      "\u001b[0m\n",
      "\u001b[31m#metrics {\"Metrics\": {\"training_binary_classification_cross_entropy\": {\"count\": 1, \"max\": 0.012027238453345666, \"sum\": 0.012027238453345666, \"min\": 0.012027238453345666}, \"validation_binary_classification_cross_entropy\": {\"count\": 1, \"max\": -Infinity, \"sum\": NaN, \"min\": Infinity}}, \"EndTime\": 1517577193.374224, \"Dimensions\": {\"model\": 21, \"Host\": \"algo-1\", \"Operation\": \"training\", \"Algorithm\": \"Linear Learner\", \"epoch\": 3}, \"StartTime\": 1517577193.374204}\n",
      "\u001b[0m\n",
      "\u001b[31m#metrics {\"Metrics\": {\"training_binary_classification_cross_entropy\": {\"count\": 1, \"max\": 0.011887565559621557, \"sum\": 0.011887565559621557, \"min\": 0.011887565559621557}, \"validation_binary_classification_cross_entropy\": {\"count\": 1, \"max\": -Infinity, \"sum\": NaN, \"min\": Infinity}}, \"EndTime\": 1517577193.374289, \"Dimensions\": {\"model\": 22, \"Host\": \"algo-1\", \"Operation\": \"training\", \"Algorithm\": \"Linear Learner\", \"epoch\": 3}, \"StartTime\": 1517577193.374269}\n",
      "\u001b[0m\n",
      "\u001b[31m#metrics {\"Metrics\": {\"training_binary_classification_cross_entropy\": {\"count\": 1, \"max\": 0.012028014249688232, \"sum\": 0.012028014249688232, \"min\": 0.012028014249688232}, \"validation_binary_classification_cross_entropy\": {\"count\": 1, \"max\": -Infinity, \"sum\": NaN, \"min\": Infinity}}, \"EndTime\": 1517577193.374353, \"Dimensions\": {\"model\": 23, \"Host\": \"algo-1\", \"Operation\": \"training\", \"Algorithm\": \"Linear Learner\", \"epoch\": 3}, \"StartTime\": 1517577193.374333}\n",
      "\u001b[0m\n",
      "\u001b[31m#metrics {\"Metrics\": {\"training_binary_classification_cross_entropy\": {\"count\": 1, \"max\": 0.012809304200621494, \"sum\": 0.012809304200621494, \"min\": 0.012809304200621494}, \"validation_binary_classification_cross_entropy\": {\"count\": 1, \"max\": -Infinity, \"sum\": NaN, \"min\": Infinity}}, \"EndTime\": 1517577193.374428, \"Dimensions\": {\"model\": 24, \"Host\": \"algo-1\", \"Operation\": \"training\", \"Algorithm\": \"Linear Learner\", \"epoch\": 3}, \"StartTime\": 1517577193.374405}\n",
      "\u001b[0m\n",
      "\u001b[31m#metrics {\"Metrics\": {\"training_binary_classification_cross_entropy\": {\"count\": 1, \"max\": 0.012705335508598143, \"sum\": 0.012705335508598143, \"min\": 0.012705335508598143}, \"validation_binary_classification_cross_entropy\": {\"count\": 1, \"max\": -Infinity, \"sum\": NaN, \"min\": Infinity}}, \"EndTime\": 1517577193.374481, \"Dimensions\": {\"model\": 25, \"Host\": \"algo-1\", \"Operation\": \"training\", \"Algorithm\": \"Linear Learner\", \"epoch\": 3}, \"StartTime\": 1517577193.374461}\n",
      "\u001b[0m\n",
      "\u001b[31m#metrics {\"Metrics\": {\"training_binary_classification_cross_entropy\": {\"count\": 1, \"max\": 0.012809425595564297, \"sum\": 0.012809425595564297, \"min\": 0.012809425595564297}, \"validation_binary_classification_cross_entropy\": {\"count\": 1, \"max\": -Infinity, \"sum\": NaN, \"min\": Infinity}}, \"EndTime\": 1517577193.374542, \"Dimensions\": {\"model\": 26, \"Host\": \"algo-1\", \"Operation\": \"training\", \"Algorithm\": \"Linear Learner\", \"epoch\": 3}, \"StartTime\": 1517577193.374522}\n",
      "\u001b[0m\n",
      "\u001b[31m#metrics {\"Metrics\": {\"training_binary_classification_cross_entropy\": {\"count\": 1, \"max\": 0.01270543347804781, \"sum\": 0.01270543347804781, \"min\": 0.01270543347804781}, \"validation_binary_classification_cross_entropy\": {\"count\": 1, \"max\": -Infinity, \"sum\": NaN, \"min\": Infinity}}, \"EndTime\": 1517577193.374607, \"Dimensions\": {\"model\": 27, \"Host\": \"algo-1\", \"Operation\": \"training\", \"Algorithm\": \"Linear Learner\", \"epoch\": 3}, \"StartTime\": 1517577193.374587}\n",
      "\u001b[0m\n",
      "\u001b[31m#metrics {\"Metrics\": {\"training_binary_classification_cross_entropy\": {\"count\": 1, \"max\": 0.012745337937042177, \"sum\": 0.012745337937042177, \"min\": 0.012745337937042177}, \"validation_binary_classification_cross_entropy\": {\"count\": 1, \"max\": -Infinity, \"sum\": NaN, \"min\": Infinity}}, \"EndTime\": 1517577193.374675, \"Dimensions\": {\"model\": 28, \"Host\": \"algo-1\", \"Operation\": \"training\", \"Algorithm\": \"Linear Learner\", \"epoch\": 3}, \"StartTime\": 1517577193.374654}\n",
      "\u001b[0m\n",
      "\u001b[31m#metrics {\"Metrics\": {\"training_binary_classification_cross_entropy\": {\"count\": 1, \"max\": 0.013007542119402603, \"sum\": 0.013007542119402603, \"min\": 0.013007542119402603}, \"validation_binary_classification_cross_entropy\": {\"count\": 1, \"max\": -Infinity, \"sum\": NaN, \"min\": Infinity}}, \"EndTime\": 1517577193.374742, \"Dimensions\": {\"model\": 29, \"Host\": \"algo-1\", \"Operation\": \"training\", \"Algorithm\": \"Linear Learner\", \"epoch\": 3}, \"StartTime\": 1517577193.374721}\n",
      "\u001b[0m\n",
      "\u001b[31m#metrics {\"Metrics\": {\"training_binary_classification_cross_entropy\": {\"count\": 1, \"max\": 0.012743747416868746, \"sum\": 0.012743747416868746, \"min\": 0.012743747416868746}, \"validation_binary_classification_cross_entropy\": {\"count\": 1, \"max\": -Infinity, \"sum\": NaN, \"min\": Infinity}}, \"EndTime\": 1517577193.37483, \"Dimensions\": {\"model\": 30, \"Host\": \"algo-1\", \"Operation\": \"training\", \"Algorithm\": \"Linear Learner\", \"epoch\": 3}, \"StartTime\": 1517577193.374787}\n",
      "\u001b[0m\n",
      "\u001b[31m#metrics {\"Metrics\": {\"training_binary_classification_cross_entropy\": {\"count\": 1, \"max\": 0.013003461209526024, \"sum\": 0.013003461209526024, \"min\": 0.013003461209526024}, \"validation_binary_classification_cross_entropy\": {\"count\": 1, \"max\": -Infinity, \"sum\": NaN, \"min\": Infinity}}, \"EndTime\": 1517577193.374892, \"Dimensions\": {\"model\": 31, \"Host\": \"algo-1\", \"Operation\": \"training\", \"Algorithm\": \"Linear Learner\", \"epoch\": 3}, \"StartTime\": 1517577193.374871}\n",
      "\u001b[0m\n"
     ]
    }
   ],
   "source": [
    "sess = sagemaker.Session()\n",
    "\n",
    "linear = sagemaker.estimator.Estimator(containers[boto3.Session().region_name],\n",
    "                                       role, #S3 role, so the notebook can read the data and upload the model\n",
    "                                       train_instance_count=1, #number of instances for training\n",
    "                                       train_instance_type='ml.p2.xlarge', # type of training instance\n",
    "                                       output_path=output_location, #s3 location for uploading trained mdoel\n",
    "                                       sagemaker_session=sess)\n",
    "\n",
    "linear.set_hyperparameters(feature_dim=30, #dataset has 30 columns (features)\n",
    "                           predictor_type='binary_classifier', # we predict a binary value. it could have been regressor\n",
    "                           mini_batch_size=200)\n",
    "\n",
    "linear.fit({'train': s3_train_data})"
   ]
  },
  {
   "cell_type": "markdown",
   "metadata": {},
   "source": [
    "### Monitoring your Training Job\n",
    "Amazon SageMaker has logs training using Amazon CloudWatch. The logs are located under aws/TrainingJobs\n",
    "![training logs](https://github.com/cyrusmvahid/sagemaker-demos/blob/master/docs/images/SageMakerLogs.png?raw=true)\n",
    "\n",
    "Amazon SageMaker also provide a set of Metrics. Metrics include:\n",
    "- Memory Utilization\n",
    "- CPU Utilization\n",
    "- GPU Unitlization\n",
    "- Disk Utilization\n",
    "You can use these metrics to size your training cluster accordingly.\n",
    "![training logs](https://github.com/cyrusmvahid/sagemaker-demos/blob/master/docs/images/SageMakerMetrics.png?raw=true)"
   ]
  },
  {
   "cell_type": "markdown",
   "metadata": {
    "nbpresent": {
     "id": "4c358790-fbeb-4134-98da-44a9fd2f0a0a"
    }
   },
   "source": [
    "## SageMaker Process - Hosting the model\n",
    "Now that we have a trained and saved model, we can venture into creating endpoints. Amazon SageMaker requires a single line of code in order to created a fully managed and elasticlly scalable endpoint environemnt. \n",
    "\n",
    "Amazon SageMaker takes your model file from the S3 bucket and dockerizes it. It also creates an Amazon [ECS (Amazon Elastic Container Service)](https://aws.amazon.com/documentation/ecs/) infrastructre, fronted with an [ELB or ElasticLoadBalncer](https://aws.amazon.com/documentation/elastic-load-balancing/).\n",
    "\n",
    "The instances are also members of an [Autoscaling Group](https://docs.aws.amazon.com/autoscaling/ec2/userguide/AutoScalingGroup.html), meaning that based on the incoming load the number of docker images and underlying EC2 instances can growand shrink dynamically. \n",
    "\n",
    "Model hosting and Deployment is independent of how you develop your models, meaning that you do not need to develop your model within Amazon SageMaker or use Amazon Algorithms in order to host your models in Amazon SageMaker. \n",
    "\n",
    "This post is foused on LinearLearning and hosting your models is out of the scope of this blog post. For more information please refer to [Amazon SageMaker doumentation](https://docs.aws.amazon.com/sagemaker/latest/dg/your-algorithms.html)\n",
    "\n",
    "From the class diaram we delved into previously, we can remember that EstimatorBase implements a method called `deploy()`. All the deployment magic happens through a single call to `Estimator.deploy()`\n",
    "\n",
    "We pass initial cluster size and instance type to `deploy()`. \n",
    "```python\n",
    "linear_predictor = linear.deploy(initial_instance_count=1, #Initial number of instances. \n",
    "                                                           #Autoscaling can increase the number of instances.\n",
    "                                 instance_type='ml.m4.xlarge') # instance type\n",
    "```\n",
    "\n",
    "Executing `deploy()` calls `create_model()`. `create_model()` is an abstract method of EstimatorBase and is implemented by its sub-classes. `create_model()` in turn returns a Model object. calling  `deploy()` returns a RealTimePredictor class, that can be in fact deployed to the live environement.\n",
    "\n",
    "### Model Class Hierarchy\n",
    "![Model](https://github.com/cyrusmvahid/sagemaker-demos/blob/master/docs/images/classes_model_base.png?raw=true)\n",
    "\n",
    "\n",
    "### Predictor Class \n",
    "![predictor](https://github.com/cyrusmvahid/sagemaker-demos/blob/master/docs/images/classes_predictor.png?raw=true)\n"
   ]
  },
  {
   "cell_type": "code",
   "execution_count": 69,
   "metadata": {
    "nbpresent": {
     "id": "2d9a143f-c309-4634-a8a4-98bd2dea8678"
    }
   },
   "outputs": [
    {
     "name": "stderr",
     "output_type": "stream",
     "text": [
      "INFO:sagemaker:Creating model with name: linear-learner-2018-02-02-13-23-55-087\n",
      "INFO:sagemaker:Creating endpoint with name linear-learner-2018-02-02-13-04-57-518\n"
     ]
    },
    {
     "name": "stdout",
     "output_type": "stream",
     "text": [
      "----------------------------------------------------------------------------------------------------------------------------!"
     ]
    }
   ],
   "source": [
    "linear_predictor = linear.deploy(initial_instance_count=1, #Initial number of instances. \n",
    "                                                           #Autoscaling can increase the number of instances.\n",
    "                                 instance_type='ml.m4.xlarge') # instance type"
   ]
  },
  {
   "cell_type": "code",
   "execution_count": 71,
   "metadata": {},
   "outputs": [
    {
     "data": {
      "text/plain": [
       "sagemaker.predictor.RealTimePredictor"
      ]
     },
     "execution_count": 71,
     "metadata": {},
     "output_type": "execute_result"
    }
   ],
   "source": [
    "type(linear_predictor)"
   ]
  },
  {
   "cell_type": "markdown",
   "metadata": {},
   "source": [
    "## SageMaker Process - Prediction\n",
    "We the print in the previous snippet we can see that `Estimator.deploy()` eventually returns a `sagemaker.predictor.RealTimePredictor` object. `sagemaker.predictor.RealTimePredictor` implements a method called `predict()`, which is used to make live predictions.\n",
    "\n",
    "Predictors in sagemaker accept csv and json. In this case we use json serialization."
   ]
  },
  {
   "cell_type": "code",
   "execution_count": 72,
   "metadata": {
    "collapsed": true,
    "nbpresent": {
     "id": "ccabbb87-c916-47c3-90b3-2fbb8b5e2fd4"
    }
   },
   "outputs": [],
   "source": [
    "linear_predictor.content_type = 'text/csv'\n",
    "linear_predictor.serializer = csv_serializer\n",
    "linear_predictor.deserializer = json_deserializer"
   ]
  },
  {
   "cell_type": "markdown",
   "metadata": {},
   "source": [
    "Since Fraudulant records are rate, I have created an array of all records in validation set with *\"Class==1\"* in order to test model accuracy by testing the predictor endpoint on ranges that in fact includes fraudulant transactions.\n",
    "\n",
    "You can observe that record number 516 is correctly predicted to be a fraud when we would run prediction in range of 515-519\n",
    "\n",
    "*\n",
    "{'predictions': [{'score': 0.0006907652714289725, 'predicted_label': 0.0}, **{'score': 0.9957004189491272, 'predicted_label': 1.0}**, {'score': 0.0006745134014636278, 'predicted_label': 0.0}, {'score': 0.0006603851797990501, 'predicted_label': 0.0}]}\n",
    "*\n"
   ]
  },
  {
   "cell_type": "code",
   "execution_count": 78,
   "metadata": {
    "nbpresent": {
     "id": "8a8d4e2f-5ffb-48bb-b4d0-297b4b9ccb14"
    }
   },
   "outputs": [
    {
     "name": "stdout",
     "output_type": "stream",
     "text": [
      "[516, 765, 867, 2636, 2704, 3360, 3583, 4111, 4482, 5115, 6463, 7810, 8008, 8420, 9171, 9178, 10236, 10591, 10604, 10701, 11363, 13516, 14479, 15167, 15396, 15949, 16334, 16348, 16982, 17309, 17698, 18155, 19023, 19048, 19116, 20236, 20382, 20701, 21038, 21080, 21509, 22228, 24887, 25425, 25840, 26055, 26797, 27138, 27982, 28853, 30106, 30733, 31027, 31317, 31353, 32757, 33018, 33285, 33710, 34422, 34926, 35447, 35595, 35699, 35700, 35922, 37207, 39095, 39165, 39623, 39954, 40098, 40486, 41384, 41871, 42159, 43274, 43573, 43641, 43798, 43949, 44281, 44954, 45959, 46102, 48351, 48763, 49023, 49041, 49576, 52158, 52165, 53136, 54002, 54994, 57241, 57242, 58254, 58297, 58298, 58707, 59283, 59350, 59791, 59795, 59966, 59981, 60137, 60226, 60260, 60705, 62107, 62426, 64015, 64309, 64645, 65028, 66338, 68281, 69096, 69159, 69280, 69344, 69487, 69530, 71003, 71055, 71580, 72302, 73057, 73358, 73389, 73644, 75015, 75384, 77773, 77821, 77843, 78179, 79448, 79479, 80184, 82184, 82484, 83329, 85205, 85541, 85631, 85798, 86175, 86542, 86984, 87085, 87275, 87322, 90181, 90636, 91183, 94353, 94395, 94646, 94958, 95182, 96212, 97344, 98572, 98904, 99231, 99719, 99722, 99935, 100199, 100509, 101493, 101808, 102346, 102709, 103100, 103570, 103714, 104054, 104246, 104450, 105055, 105240, 106181, 106214, 106812, 106911, 107044, 108243, 108951, 109621, 111525, 111778, 112474, 112756, 113534, 113714, 114785, 115154, 115852, 117623, 117682, 118246, 118937, 119090, 119616, 119929, 121209, 121536, 121771, 122555, 123096, 123482, 123501, 124644, 124673, 126110, 126147, 126656, 126959, 128237, 128689, 129194, 131229, 131504, 131520, 131533, 131623, 131931, 132397, 132414, 132459, 132480, 132857, 132932, 133089, 134211, 134907, 135081, 135946, 136203, 136905, 137200, 137212, 137712, 140411, 140648, 142014, 142217, 142953, 143797, 143830, 144571, 145568, 145766, 146034, 146213, 147399, 147729, 148246, 149001, 149283, 149550, 149921, 149951, 150637, 151396, 151600, 151949, 152459, 152720, 152962, 153407, 153879, 154322, 154790, 156451, 156862, 157117, 157187, 158781, 159248, 160650, 161017, 161281, 161672, 164168, 164349, 165301, 166123, 166517, 166712, 167151, 168004, 168814, 168852, 169054, 169340, 169606, 169662, 170038, 170170, 170371, 171193, 171718, 173451, 174960, 175122, 175149, 175234, 177779, 178221, 179529, 180132, 180615, 181925, 183154, 183253, 184306, 186262, 186445, 186468, 187248, 187564, 188202, 188639, 189316, 190103, 191011, 191782, 192915, 193004, 193051, 193233, 193468, 194871, 195540, 196806, 197501, 197669, 198918, 199113, 199305]\n",
      "\n",
      "\n",
      "{'predictions': [{'score': 0.0006907652714289725, 'predicted_label': 0.0}, {'score': 0.9957004189491272, 'predicted_label': 1.0}, {'score': 0.0006745134014636278, 'predicted_label': 0.0}, {'score': 0.0006603851797990501, 'predicted_label': 0.0}]}\n"
     ]
    }
   ],
   "source": [
    "#since score==1 is very rare we want to make sure we can correctly predict fradulant transaction. \n",
    "#First we print a lost of all labels where score == 1, then then run a prediction\n",
    "t = []\n",
    "for i in range(len(train_label)):\n",
    "    if train_label[i] == 1:\n",
    "        t.append(i)\n",
    "        \n",
    "print(t)\n",
    "\n",
    "print('\\n')\n",
    "print(linear_predictor.predict(train_set[0][515:519]))\n"
   ]
  },
  {
   "cell_type": "code",
   "execution_count": 74,
   "metadata": {
    "nbpresent": {
     "id": "d55359c3-9144-4079-936e-acabb15c003f"
    }
   },
   "outputs": [
    {
     "name": "stdout",
     "output_type": "stream",
     "text": [
      "validation set includes: 147 non zero and 85296 items woth value zero\n"
     ]
    }
   ],
   "source": [
    "non_zero = np.count_nonzero(test_set[1])\n",
    "zero = len(test_set[1]) - non_zero\n",
    "print(\"validation set includes: {} non zero and {} items woth value zero\".format(non_zero, zero))"
   ]
  },
  {
   "cell_type": "code",
   "execution_count": 75,
   "metadata": {
    "collapsed": true,
    "nbpresent": {
     "id": "79f4f9a3-e64b-4223-b09c-9a1133a9d55d"
    }
   },
   "outputs": [],
   "source": [
    "predictions = []\n",
    "for array in np.array_split(test_set[0], 100):\n",
    "    result = linear_predictor.predict(array)\n",
    "    predictions += [r['predicted_label'] for r in result['predictions']]\n",
    "\n",
    "predictions = np.array(predictions)"
   ]
  },
  {
   "cell_type": "code",
   "execution_count": 76,
   "metadata": {
    "nbpresent": {
     "id": "a59cccae-fced-4008-b5a8-fbd2d4deaa61"
    }
   },
   "outputs": [
    {
     "data": {
      "text/html": [
       "<div>\n",
       "<style>\n",
       "    .dataframe thead tr:only-child th {\n",
       "        text-align: right;\n",
       "    }\n",
       "\n",
       "    .dataframe thead th {\n",
       "        text-align: left;\n",
       "    }\n",
       "\n",
       "    .dataframe tbody tr th {\n",
       "        vertical-align: top;\n",
       "    }\n",
       "</style>\n",
       "<table border=\"1\" class=\"dataframe\">\n",
       "  <thead>\n",
       "    <tr style=\"text-align: right;\">\n",
       "      <th>predictions</th>\n",
       "      <th>0.0</th>\n",
       "      <th>1.0</th>\n",
       "    </tr>\n",
       "    <tr>\n",
       "      <th>actuals</th>\n",
       "      <th></th>\n",
       "      <th></th>\n",
       "    </tr>\n",
       "  </thead>\n",
       "  <tbody>\n",
       "    <tr>\n",
       "      <th>0.0</th>\n",
       "      <td>85282</td>\n",
       "      <td>14</td>\n",
       "    </tr>\n",
       "    <tr>\n",
       "      <th>1.0</th>\n",
       "      <td>36</td>\n",
       "      <td>111</td>\n",
       "    </tr>\n",
       "  </tbody>\n",
       "</table>\n",
       "</div>"
      ],
      "text/plain": [
       "predictions    0.0  1.0\n",
       "actuals                \n",
       "0.0          85282   14\n",
       "1.0             36  111"
      ]
     },
     "execution_count": 76,
     "metadata": {},
     "output_type": "execute_result"
    }
   ],
   "source": [
    "import pandas as pd\n",
    "\n",
    "pd.crosstab(test_set[1], predictions, rownames=['actuals'], colnames=['predictions'])"
   ]
  },
  {
   "cell_type": "markdown",
   "metadata": {
    "nbpresent": {
     "id": "1258c01b-c2f7-484b-a824-04123115c4e0"
    }
   },
   "source": [
    "### Analyzing the Results\n",
    "The confusion matrix above indicates that:\n",
    "- of 147 fraudulant cases we detected 111 correcly\n",
    "- 14 times a non-fraudulant transaction has been flagges as fraud from a total of 85443 transactions.\n",
    "\n",
    "We can observe that (85443 - 14 - (147 - 11)) = 85293 out of 85443 records or 0.9982% of the predictions are accurate. The model produces a superb precision, but how about recall? Our rate of predicting fraudulant transactions are 111/147 or approximately 75%. The model performance is based on default parameters that are located in training instances in `/opt/ml/input/config/hyperparameters.json`\n",
    "\n",
    "The default parameters are:\n",
    "`\n",
    "u'epochs': u'10', u'init_bias': u'0.0', u'lr_scheduler_factor': u'0.99', u'num_calibration_samples': u'10000000', u'_num_kv_servers': u'auto', u'use_bias': u'true', u'num_point_for_scaler': u'10000', u'_log_level': u'info', u'bias_lr_mult': u'10', u'lr_scheduler_step': u'100', u'init_method': u'uniform', u'init_sigma': u'0.01', u'lr_scheduler_minimum_lr': u'0.00001', u'target_recall': u'0.8', u'num_models': u'32', u'momentum': u'0.0', u'unbias_label': u'auto', u'wd': u'0.0', u'optimizer': u'adam', u'learning_rate': u'auto', u'_kvstore': u'auto', u'normalize_data': u'true', u'binary_classifier_model_selection_criteria': u'accuracy', u'use_lr_scheduler': u'true', u'target_precision': u'0.8', u'force_dense': u'true', u'unbias_data': u'auto', u'init_scale': u'0.07', u'bias_wd_mult': u'0', u'mini_batch_size': u'1000', u'beta_1': u'0.9', u'loss': u'auto', u'beta_2': u'0.999', u'normalize_label': u'auto', u'_num_gpus': u'auto', u'_data_format': u'record', u'positive_example_weight_mult': u'1.0', u'l1': u'0.0'}\n",
    "`\n",
    "\n",
    "A detailed description of the parameters can be found [in the Amazon SageMaker documentation](https://docs.aws.amazon.com/sagemaker/latest/dg/ll_hyperparameters.html)\n",
    "\n",
    "One of the parameters that could be potentially useful for improving the reacall of the experiment is `num_calibration_samples`, which defines the number of observations to use from the validation dataset for model calibration (finding the best threshold).\n",
    "\n",
    "`num_models` is also importan. It defines the number of models to train in parallel.\n",
    "\n",
    "A few clocks ago we had a mention of data normalizatoin. `normalize_data` can help bringing the std_dev of data to 1.\n",
    "\n",
    "***Challenge: Obviously we can optimize this model for better recall. I invite the reade to do so and contribute their hyperparameters.*** \n"
   ]
  },
  {
   "cell_type": "markdown",
   "metadata": {},
   "source": [
    "### Monitor the live environment\n",
    "A key feature of monitoring SageMaker Endpoints is that you do not monitor infrastructure, instead, you are monitoring your models even if they might be deployed on multiple machines. This gives you a hollistic view of your model performance.\n",
    "\n",
    "Amazon Cloud Watch Logs includes /aws/sagemaker/Endpoints per endpoint you create. You can use logs to montitor your model logs incluing all the calls to your endpoints.\n",
    "![endpoint_logs](https://github.com/cyrusmvahid/sagemaker-demos/blob/master/docs/images/EndpointLogs.png?raw=true)\n",
    "\n",
    "For a graphical view of your metrics you can use Amazon CloutWatch Metrics. You can monitor your model metrics such as:\n",
    "- GPU Utilizaiton\n",
    "- CPU Utilization\n",
    "- Latency\n",
    "- Memory Utilization\n",
    "for more infomation please refer to [SageMaker documentation](!https://docs.aws.amazon.com/sagemaker/latest/dg/monitoring-overview.html)\n",
    "\n",
    "the following  screenshot is the results of several thousands of endpoint calls I performed on my linear learner.\n",
    "\n",
    "![monitoring](https://github.com/cyrusmvahid/sagemaker-demos/blob/master/docs/images/EndpointMetricsGraph.png?raw=true)"
   ]
  },
  {
   "cell_type": "markdown",
   "metadata": {
    "nbpresent": {
     "id": "94a82f75-6c54-49bd-8e92-fce009ac4422"
    }
   },
   "source": [
    "# (optional) Delete the endpoint\n",
    "f you're ready to be done with this notebook, please run the delete_endpoint line in the cell below. This will remove the hosted endpoint you created and avoid any charges from a stray instance being left on."
   ]
  },
  {
   "cell_type": "code",
   "execution_count": null,
   "metadata": {
    "collapsed": true
   },
   "outputs": [],
   "source": [
    "linear.delete_endpoint()"
   ]
  }
 ],
 "metadata": {
  "kernelspec": {
   "display_name": "conda_python3",
   "language": "python",
   "name": "conda_python3"
  },
  "language_info": {
   "codemirror_mode": {
    "name": "ipython",
    "version": 3
   },
   "file_extension": ".py",
   "mimetype": "text/x-python",
   "name": "python",
   "nbconvert_exporter": "python",
   "pygments_lexer": "ipython3",
   "version": "3.6.2"
  }
 },
 "nbformat": 4,
 "nbformat_minor": 2
}
