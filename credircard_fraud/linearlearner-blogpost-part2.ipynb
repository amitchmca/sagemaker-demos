{
 "cells": [
  {
   "cell_type": "markdown",
   "metadata": {
    "nbpresent": {
     "id": "9b84e6dd-6ee6-4127-a73d-03d1c37ab143"
    }
   },
   "source": [
    "# Linear Regression and Amazon Linear Learner Algorithm - Part 2"
   ]
  },
  {
   "cell_type": "markdown",
   "metadata": {
    "nbpresent": {
     "id": "8ed12894-bed7-47e0-ba3f-2d9df457f6e4"
    }
   },
   "source": [
    "# Assumptions and Disclaimers\n",
    "This blogpost assumes that you have already completed the following tutorials from Amazon SageMaker docuemntation:\n",
    "- [Setting up](https://docs.aws.amazon.com/sagemaker/latest/dg/gs-set-up.html)\n",
    "- [Create am Amazon SageMaker Notebook Instance](https://docs.aws.amazon.com/sagemaker/latest/dg/gs-setup-working-env.html)\n",
    "- I have included 'sagemaker' in the name of my S3 bucket, \"cyrusmv-sagemaker-demos' and have chosen to let any SageMaker notebook instance to access any S3 bucket with the term 'sagemaker' included in the name. This is however is not a recommended security option for production and is only useful for simplifying the flow of the blog.\n",
    "- It is assumed that the reader is familiar with linear regression. If not please read part 1 of this post.\n",
    "\n"
   ]
  },
  {
   "cell_type": "markdown",
   "metadata": {
    "nbpresent": {
     "id": "7e1043f4-caaf-46d3-8f3f-d62997b2bd85"
    }
   },
   "source": [
    "# Introduction\n",
    "\n",
    "In this part of the blog, I will provide an introduction to inner-workings of SageMaker and Amazon LinearLearner algorithm. Then we will download [Visa dataset from Kaggle](https://www.kaggle.com/dalpozz/creditcardfraud) and pre-process it in order to feed the data to the algorithm.\n",
    "We then create an endpoint and make predictions using trained models."
   ]
  },
  {
   "cell_type": "markdown",
   "metadata": {
    "nbpresent": {
     "id": "17526a32-7d49-49a5-b686-03719aeaf294"
    }
   },
   "source": [
    "# Amazon SageMaker\n",
    "Amazon SageMaker is a fully managed machine learning service. With Amazon SageMaker, data scientists and developers can quickly and easily build and train machine learning models, and tan directly deploy them into a production-ready hosted environment. It provides an integrated Jupyter authoring notebook instance for easy access to you're data sources for exploration and analysis, so you don't have to manage servers. It also provides common machine learning algorithms that are optimized to run efficiently against extremely large data in a distributed environment. With native support for bring-you're-own-algorithms and frameworks, Amazon SageMaker offers flexible distributed training options that adjust to you're specific workflows. Deploy a model into a secure and scalable environment by launching it with a single click from teh Amazon SageMaker console. Training and hosting are billed by minutes of usage, with no minimum fees and no upfront commitments.\n",
    "\n",
    "SageMaker python sdk, is a library that provides the user with the ability to wrap your models in helper classes that can be passed to Amazon SageMaker. The python sdk provides you with the ability to, use Amazon Algorithms, train and deploy your own code (currently MXNet and TensorFlow) using Amazon SagedMaker, and bring your own pre-trained dockertized models.\n",
    "\n",
    "Let us next take a look at the architecture of SageMaker.\n",
    "\n",
    "## How does Amazon SageMaker Work:\n",
    "### Training\n",
    "TRaining workload, for a end-to-end model development includes the following components:\n",
    "- S3 Bucket for the training dataset\n",
    "- Amazon SageMaker notebook instance. Fully managed single tenant EC2 instance.\n",
    "- EC2 cluster for training. (fully managed transparent to developer)\n",
    "- S3 bucket for trained model\n",
    "### Hosting\n",
    "- S3 bucket for model\n",
    "- ECS infrastructure to host a dockerized model (fully managed transparent to developer)\n",
    "- EC2 cluster manages by ECS\n",
    "- Nodel Endpoints, elastically scalable callable inference endpoints. (fully managed transparent to developer)\n",
    "\n",
    "![SageMaker Architecture](https://docs.aws.amazon.com/sagemaker/latest/dg/images/ironman-architecture.png)"
   ]
  },
  {
   "cell_type": "markdown",
   "metadata": {
    "nbpresent": {
     "id": "815e8f41-fa98-495d-90a1-ee0fa9f3c0ef"
    }
   },
   "source": [
    "# The SageMaker Process - Training\n",
    "1. Upload the data into S3. Prior to this we have gone trough several preparation steps that are necessary, but are not specific to Amazon SageMaker. This step could also being performed outside of SageMaker\n",
    "2. Train: Training code is wrapped inside sagemaker helper code. In case of Amazon Algorithms this is already completed and instead of using your own training and wrapper code, we simply pull the model from [Amazon ECR (Elastic Container Registry)](https://aws.amazon.com/ecr/). During the training process the following steps will happen:\n",
    " 1. A training cluster based on requested specification will be created. \n",
    " Dataset will be downloaded to the training cluster\n",
    "    - Authentication and Authorization will be based on execution role of the SageMaker \n",
    " 2. A training job is launched.\n",
    " 3. Data is downloaded to the training instances.\n",
    " 4- Hyperparameters are passed to the training model.\n",
    " 5- Training will end after a terminationcriterial is reached.\n",
    "2. After the model is trained, model artefacts will be uploaded to S3.\n",
    "3. The training cluster is torn down.\n"
   ]
  },
  {
   "cell_type": "markdown",
   "metadata": {
    "nbpresent": {
     "id": "421a3c73-4054-4f1a-8aa5-f8f7f74b6c2d"
    }
   },
   "source": [
    "## Get the data\n",
    "1. Download the dataset from [kaggle](https://www.kaggle.com/dalpozz/creditcardfraud) to your local machine.\n",
    "2. Upload the dataset onto S3. *reminder*: I am using an S3 bucket whose name includes the term *\"sagemaker\"*\n",
    "The rest of this blog assumes that you have already done this.\n",
    "## Inspencting and understanding the data \n",
    "*NOTE:* If you are intersted in learning about preprocessing data, you should start here, otherwise you could simply start from part 2, when we load the data from npy files.\n",
    "1. Download the dataset from S3 onto your notebook instance\n",
    "2. Loading the csv file into a pandas dataframe for inspection"
   ]
  },
  {
   "cell_type": "code",
   "execution_count": 151,
   "metadata": {
    "collapsed": true,
    "nbpresent": {
     "id": "bc856947-4e65-4ef7-b406-05f468854471"
    }
   },
   "outputs": [],
   "source": [
    "#imports\n",
    "import boto3 #AWS python SDK for accessing AWS services\n",
    "import pandas as pd #Tabular data structure\n",
    "import numpy as np #Array libraru with probability and statistics capabilities\n",
    "import matplotlib.pyplot as plt # Plotting library\n",
    "import seaborn as sns #plotting library\n",
    "#import io\n",
    "import sagemaker.amazon.common as smac # Amazon Sagemaker common library that includes data formats\n",
    "import sagemaker #sagemaker python sdk\n",
    "\n",
    "from sagemaker.predictor import csv_serializer, json_deserializer #sagemaker prediction sdk"
   ]
  },
  {
   "cell_type": "code",
   "execution_count": 152,
   "metadata": {
    "nbpresent": {
     "id": "1629436c-65dd-44ac-8b08-86a5790620c3"
    }
   },
   "outputs": [
    {
     "name": "stdout",
     "output_type": "stream",
     "text": [
      "arn:aws:iam::475933981307:role/service-role/AmazonSageMaker-ExecutionRole-20180102T172706\n"
     ]
    }
   ],
   "source": [
    "bucket = 'cyrusmv-sagemaker-demos'     #replace this with your own bucket \n",
    "prefix = 'visa-kaggle/original.csv'    #replace this with your own file inside the bucket\n",
    "protocol=\"s3://\"\n",
    "datafile = 'data/original.csv'\n",
    " \n",
    "# Define IAM role\n",
    "#import boto3\n",
    "#import re\n",
    "from sagemaker import get_execution_role\n",
    "role = get_execution_role() #this is SageMaker role that would be later used for authorizing SageMaker to access S3\n",
    "print(role) \n",
    "\n",
    "sagemaker_session = sagemaker.Session()"
   ]
  },
  {
   "cell_type": "markdown",
   "metadata": {
    "nbpresent": {
     "id": "258ae621-c08c-460d-9852-026fcd11d6a5"
    }
   },
   "source": [
    "### Data ingestion\n",
    "1. Downloding file locally\n",
    "2. Loading file into pandas for inspection\n",
    "3. conversting data to numpy\n",
    "4. shuffling the data\n",
    "5. spliting data into test and training\n",
    "6. breaking up each data set to data and label"
   ]
  },
  {
   "cell_type": "code",
   "execution_count": null,
   "metadata": {
    "collapsed": true,
    "nbpresent": {
     "id": "99a90655-1f25-4604-9edd-7fd934e1ed21"
    }
   },
   "outputs": [],
   "source": [
    "#Downloading the file to a local folder\n",
    "client = boto3.client('s3')\n",
    "with open(datafile, 'wb') as f:\n",
    "    client.download_fileobj(bucket, prefix, f)"
   ]
  },
  {
   "cell_type": "code",
   "execution_count": 8,
   "metadata": {
    "nbpresent": {
     "id": "d66da413-d063-4a3c-a053-2bfebc9d2e95"
    }
   },
   "outputs": [
    {
     "name": "stdout",
     "output_type": "stream",
     "text": [
      "(284807, 31)\n"
     ]
    }
   ],
   "source": [
    "# loading data into pandas for inspection\n",
    "df = pd.read_csv(datafile)\n",
    "print(df.as_matrix().shape)"
   ]
  },
  {
   "cell_type": "markdown",
   "metadata": {
    "nbpresent": {
     "id": "3b8c7325-6d3b-4d65-b219-050d78b7649f"
    }
   },
   "source": [
    "### Data Dimension\n",
    "Shape of data is $284807 \\times 31$, meaning that $dim(input\\_data)\\ = \\ 1$. Next we would like to distinguish features from the target."
   ]
  },
  {
   "cell_type": "code",
   "execution_count": 10,
   "metadata": {
    "nbpresent": {
     "id": "6752f22d-3666-4bde-ae2f-bcd7ad77284a"
    }
   },
   "outputs": [
    {
     "data": {
      "text/html": [
       "<div>\n",
       "<style>\n",
       "    .dataframe thead tr:only-child th {\n",
       "        text-align: right;\n",
       "    }\n",
       "\n",
       "    .dataframe thead th {\n",
       "        text-align: left;\n",
       "    }\n",
       "\n",
       "    .dataframe tbody tr th {\n",
       "        vertical-align: top;\n",
       "    }\n",
       "</style>\n",
       "<table border=\"1\" class=\"dataframe\">\n",
       "  <thead>\n",
       "    <tr style=\"text-align: right;\">\n",
       "      <th></th>\n",
       "      <th>Time</th>\n",
       "      <th>V1</th>\n",
       "      <th>V2</th>\n",
       "      <th>V3</th>\n",
       "      <th>V4</th>\n",
       "      <th>V5</th>\n",
       "      <th>V6</th>\n",
       "      <th>V7</th>\n",
       "      <th>V8</th>\n",
       "      <th>V9</th>\n",
       "      <th>...</th>\n",
       "      <th>V21</th>\n",
       "      <th>V22</th>\n",
       "      <th>V23</th>\n",
       "      <th>V24</th>\n",
       "      <th>V25</th>\n",
       "      <th>V26</th>\n",
       "      <th>V27</th>\n",
       "      <th>V28</th>\n",
       "      <th>Amount</th>\n",
       "      <th>Class</th>\n",
       "    </tr>\n",
       "  </thead>\n",
       "  <tbody>\n",
       "    <tr>\n",
       "      <th>0</th>\n",
       "      <td>0.0</td>\n",
       "      <td>-1.359807</td>\n",
       "      <td>-0.072781</td>\n",
       "      <td>2.536347</td>\n",
       "      <td>1.378155</td>\n",
       "      <td>-0.338321</td>\n",
       "      <td>0.462388</td>\n",
       "      <td>0.239599</td>\n",
       "      <td>0.098698</td>\n",
       "      <td>0.363787</td>\n",
       "      <td>...</td>\n",
       "      <td>-0.018307</td>\n",
       "      <td>0.277838</td>\n",
       "      <td>-0.110474</td>\n",
       "      <td>0.066928</td>\n",
       "      <td>0.128539</td>\n",
       "      <td>-0.189115</td>\n",
       "      <td>0.133558</td>\n",
       "      <td>-0.021053</td>\n",
       "      <td>149.62</td>\n",
       "      <td>0</td>\n",
       "    </tr>\n",
       "    <tr>\n",
       "      <th>1</th>\n",
       "      <td>0.0</td>\n",
       "      <td>1.191857</td>\n",
       "      <td>0.266151</td>\n",
       "      <td>0.166480</td>\n",
       "      <td>0.448154</td>\n",
       "      <td>0.060018</td>\n",
       "      <td>-0.082361</td>\n",
       "      <td>-0.078803</td>\n",
       "      <td>0.085102</td>\n",
       "      <td>-0.255425</td>\n",
       "      <td>...</td>\n",
       "      <td>-0.225775</td>\n",
       "      <td>-0.638672</td>\n",
       "      <td>0.101288</td>\n",
       "      <td>-0.339846</td>\n",
       "      <td>0.167170</td>\n",
       "      <td>0.125895</td>\n",
       "      <td>-0.008983</td>\n",
       "      <td>0.014724</td>\n",
       "      <td>2.69</td>\n",
       "      <td>0</td>\n",
       "    </tr>\n",
       "    <tr>\n",
       "      <th>2</th>\n",
       "      <td>1.0</td>\n",
       "      <td>-1.358354</td>\n",
       "      <td>-1.340163</td>\n",
       "      <td>1.773209</td>\n",
       "      <td>0.379780</td>\n",
       "      <td>-0.503198</td>\n",
       "      <td>1.800499</td>\n",
       "      <td>0.791461</td>\n",
       "      <td>0.247676</td>\n",
       "      <td>-1.514654</td>\n",
       "      <td>...</td>\n",
       "      <td>0.247998</td>\n",
       "      <td>0.771679</td>\n",
       "      <td>0.909412</td>\n",
       "      <td>-0.689281</td>\n",
       "      <td>-0.327642</td>\n",
       "      <td>-0.139097</td>\n",
       "      <td>-0.055353</td>\n",
       "      <td>-0.059752</td>\n",
       "      <td>378.66</td>\n",
       "      <td>0</td>\n",
       "    </tr>\n",
       "    <tr>\n",
       "      <th>3</th>\n",
       "      <td>1.0</td>\n",
       "      <td>-0.966272</td>\n",
       "      <td>-0.185226</td>\n",
       "      <td>1.792993</td>\n",
       "      <td>-0.863291</td>\n",
       "      <td>-0.010309</td>\n",
       "      <td>1.247203</td>\n",
       "      <td>0.237609</td>\n",
       "      <td>0.377436</td>\n",
       "      <td>-1.387024</td>\n",
       "      <td>...</td>\n",
       "      <td>-0.108300</td>\n",
       "      <td>0.005274</td>\n",
       "      <td>-0.190321</td>\n",
       "      <td>-1.175575</td>\n",
       "      <td>0.647376</td>\n",
       "      <td>-0.221929</td>\n",
       "      <td>0.062723</td>\n",
       "      <td>0.061458</td>\n",
       "      <td>123.50</td>\n",
       "      <td>0</td>\n",
       "    </tr>\n",
       "    <tr>\n",
       "      <th>4</th>\n",
       "      <td>2.0</td>\n",
       "      <td>-1.158233</td>\n",
       "      <td>0.877737</td>\n",
       "      <td>1.548718</td>\n",
       "      <td>0.403034</td>\n",
       "      <td>-0.407193</td>\n",
       "      <td>0.095921</td>\n",
       "      <td>0.592941</td>\n",
       "      <td>-0.270533</td>\n",
       "      <td>0.817739</td>\n",
       "      <td>...</td>\n",
       "      <td>-0.009431</td>\n",
       "      <td>0.798278</td>\n",
       "      <td>-0.137458</td>\n",
       "      <td>0.141267</td>\n",
       "      <td>-0.206010</td>\n",
       "      <td>0.502292</td>\n",
       "      <td>0.219422</td>\n",
       "      <td>0.215153</td>\n",
       "      <td>69.99</td>\n",
       "      <td>0</td>\n",
       "    </tr>\n",
       "  </tbody>\n",
       "</table>\n",
       "<p>5 rows × 31 columns</p>\n",
       "</div>"
      ],
      "text/plain": [
       "   Time        V1        V2        V3        V4        V5        V6        V7  \\\n",
       "0   0.0 -1.359807 -0.072781  2.536347  1.378155 -0.338321  0.462388  0.239599   \n",
       "1   0.0  1.191857  0.266151  0.166480  0.448154  0.060018 -0.082361 -0.078803   \n",
       "2   1.0 -1.358354 -1.340163  1.773209  0.379780 -0.503198  1.800499  0.791461   \n",
       "3   1.0 -0.966272 -0.185226  1.792993 -0.863291 -0.010309  1.247203  0.237609   \n",
       "4   2.0 -1.158233  0.877737  1.548718  0.403034 -0.407193  0.095921  0.592941   \n",
       "\n",
       "         V8        V9  ...         V21       V22       V23       V24  \\\n",
       "0  0.098698  0.363787  ...   -0.018307  0.277838 -0.110474  0.066928   \n",
       "1  0.085102 -0.255425  ...   -0.225775 -0.638672  0.101288 -0.339846   \n",
       "2  0.247676 -1.514654  ...    0.247998  0.771679  0.909412 -0.689281   \n",
       "3  0.377436 -1.387024  ...   -0.108300  0.005274 -0.190321 -1.175575   \n",
       "4 -0.270533  0.817739  ...   -0.009431  0.798278 -0.137458  0.141267   \n",
       "\n",
       "        V25       V26       V27       V28  Amount  Class  \n",
       "0  0.128539 -0.189115  0.133558 -0.021053  149.62      0  \n",
       "1  0.167170  0.125895 -0.008983  0.014724    2.69      0  \n",
       "2 -0.327642 -0.139097 -0.055353 -0.059752  378.66      0  \n",
       "3  0.647376 -0.221929  0.062723  0.061458  123.50      0  \n",
       "4 -0.206010  0.502292  0.219422  0.215153   69.99      0  \n",
       "\n",
       "[5 rows x 31 columns]"
      ]
     },
     "execution_count": 10,
     "metadata": {},
     "output_type": "execute_result"
    }
   ],
   "source": [
    "df.head(5)"
   ]
  },
  {
   "cell_type": "code",
   "execution_count": 37,
   "metadata": {
    "nbpresent": {
     "id": "61a0b726-a78b-4ea2-b566-e784a5e8e247"
    }
   },
   "outputs": [
    {
     "name": "stdout",
     "output_type": "stream",
     "text": [
      "\n",
      "Class\n",
      "0    284315\n",
      "1       492\n",
      "dtype: int64\n"
     ]
    }
   ],
   "source": [
    "# We would like to see what values we have for \"Class\". This snippet below shows that Class is a binary column.\n",
    "print()\n",
    "print(df.groupby('Class').size())"
   ]
  },
  {
   "cell_type": "markdown",
   "metadata": {
    "nbpresent": {
     "id": "9080320c-7e78-48d1-ad7e-2ea5dca97689"
    }
   },
   "source": [
    "### Feature and Target identification\n",
    "*\"Class\"* is our target and the rest of the columns are our features. Next we would like to understand values or clusters of *\"Class\"*.\n",
    "\n",
    "This tells us that we are predicting a binary target and this instead of linear regression, would should be performing a logistic regression or binary classification.\n",
    "\n",
    "So far we know that:\n",
    "- Of the 31 input dimentions, 30 are features and *'Class'* is the target.\n",
    "- The target is a binary prediction\n",
    "thus our lineare regression function would be defined as:\n",
    "\n",
    "$$\n",
    "f:\\mathbb{R}^{30} \\rightarrow \\{0, 1\\} \\\\\n",
    "f(x) = W_{30 \\times 1} V_{1 \\times 30} + b\n",
    "$$"
   ]
  },
  {
   "cell_type": "code",
   "execution_count": 38,
   "metadata": {
    "nbpresent": {
     "id": "aa379df1-1c5a-4daf-8140-5ef555557492"
    }
   },
   "outputs": [
    {
     "name": "stdout",
     "output_type": "stream",
     "text": [
      "0.1727485630620034% of transactions are fraudunat and 99.82725143693798% are legitimate\n"
     ]
    }
   ],
   "source": [
    "num_recs = df['Class'].count()\n",
    "num_zeros = df['Class'][df['Class']==0].count()\n",
    "num_ones = num_recs - num_zeros\n",
    "print(\"{}% of transactions are fraudunat and {}% are legitimate\".format((num_ones/num_recs)*100,\n",
    "                                                                       (num_zeros/num_recs*100)))\n"
   ]
  },
  {
   "cell_type": "markdown",
   "metadata": {
    "nbpresent": {
     "id": "200a9d82-e6fd-436f-8ae9-40729478bdc4"
    }
   },
   "source": [
    "## Data Preparation\n",
    "Before attempting to prepare the data we would like to inspect distribution of fraud/not-fraud values for clss. We know from last two code snippets that **99.8** percent of our transactions are legitimate, so it is crucial to randomize distribution of Class==1 within the dataset, so we do not end up with a lumpy concentration of few Class==1 in a segment of dataset next to one another. \n",
    "To randomize distributoin of Class==1, we shuffle the data in the dataset.\n",
    "\n",
    "There are three issues with Class==1 being conentrated near one another:\n",
    "1. We might learn sequentional noise\n",
    "2. We might unlearn what we have learned as we move down the data.\n",
    "3. The dataset includes both training and validtion set and we need to split the data. with a distribution that is not normal and smooth, we might end up with most or all of Class==1 in training or validation.\n"
   ]
  },
  {
   "cell_type": "markdown",
   "metadata": {
    "nbpresent": {
     "id": "79e41734-3d36-45c6-887a-f28a8885b1de"
    }
   },
   "source": [
    "### Splitting the data to data and label\n",
    "Next we would need to prepare the data throgh the following steps.\n",
    "1. Convert tabular data to numpy, so that we can manipulate the data easier.\n",
    "2. Split the data to data and label, but moving the *\"Class\"* or indeed the last column of the numpy array to a new array."
   ]
  },
  {
   "cell_type": "markdown",
   "metadata": {
    "collapsed": true,
    "nbpresent": {
     "id": "2835c0d8-a5e0-42a9-8804-75312b65b370"
    }
   },
   "source": [
    "#Converting Data Into Numpy\n",
    "\n",
    "raw_data = df.as_matrix()\n",
    "\n",
    "#Shuffling the data and randomizing the distrbution of the data\n",
    "#I have performed to shuffles and experimented with different seeds until the distribution \n",
    "#of Class==1 became acceptably smooth according to the graph below.\n",
    "\n",
    "np.random.seed(123)\n",
    "np.random.shuffle(raw_data)\n",
    "np.random.seed(499)\n",
    "np.random.shuffle(raw_data)\n",
    "\n",
    "\n",
    "label = raw_data[:, -1] #Taking last column of the data and creating a lanel vector\n",
    "data = raw_data[:, :-1] # Taking the remains of th da\n",
    "\n",
    "print(\"shape before split: {}; label_shape = {}; data_shape= {}\".format(raw_data.shape, label.shape, data.shape))"
   ]
  },
  {
   "cell_type": "markdown",
   "metadata": {
    "nbpresent": {
     "id": "3761a591-197b-4361-9247-f18a9c48fad0"
    }
   },
   "source": [
    "From previous snippet we see that the originl dataset includes 31 dimensional rows and now we have two vectors, the data vector with each row having a dimension of 30 and label is just a scalar.\n",
    "\n",
    "### Plotting distributino of Class==1 \n",
    "Next we would like to be sure that Class==1 records are distributed evenly within the dataset before we attempt to split the data to training and validation."
   ]
  },
  {
   "cell_type": "code",
   "execution_count": 136,
   "metadata": {
    "nbpresent": {
     "id": "96cec58b-0bac-49e0-a953-e291255266dd"
    }
   },
   "outputs": [
    {
     "data": {
      "image/png": "[encoded data removed]",
      "text/plain": [
       "<matplotlib.figure.Figure at 0x7f864ad4be80>"
      ]
     },
     "metadata": {},
     "output_type": "display_data"
    }
   ],
   "source": [
    "# There are very few fraudulant transactions in the dataset, so I am putting their indexes in an array\n",
    "# to plot and ensure they are evenly distributed, so when I split the dataset into test and training \n",
    "# I don't end up with a dispropostionate distribution\n",
    "t = []\n",
    "for i in range(len(label)):\n",
    "    if label[i] == 1:\n",
    "        t.append(i)\n",
    "\n",
    "sns.distplot(t, kde=True, rug=True, hist=False)\n",
    "plt.show()"
   ]
  },
  {
   "cell_type": "markdown",
   "metadata": {
    "nbpresent": {
     "id": "be165513-bb4a-43d7-9aa5-65488d857855"
    }
   },
   "source": [
    "The plot above shows is the distribution of Class==1. the blue bar in the bottom (rug==True) shows us that Class==1 is evenly distributed within the range of the data [0..284807]\n",
    "From the plot above we can observe that "
   ]
  },
  {
   "cell_type": "markdown",
   "metadata": {
    "nbpresent": {
     "id": "6df550bf-9d75-47d7-a1b1-e712a0d13779"
    }
   },
   "source": [
    "### Splitting the dataset to train and validation\n",
    "Now that we are in posession of a good dataset, we cam proceed to splot the data into training and validation set. Here I have done a 70-30 split, you can choose whatever rate you find appropriage."
   ]
  },
  {
   "cell_type": "code",
   "execution_count": 139,
   "metadata": {
    "nbpresent": {
     "id": "f4fd3681-ecae-4a36-a05d-440e12f36e11"
    }
   },
   "outputs": [
    {
     "name": "stdout",
     "output_type": "stream",
     "text": [
      "training data shape= (199364, 30); training label shape = (199364,) \n",
      "Validation data shape= (85443, 30); validation label shape = (85443,)\n"
     ]
    }
   ],
   "source": [
    "#Splitting data into validation and training and breaking dataset into data and label\n",
    "\n",
    "#60%-40% training to validation\n",
    "train_size = int(data.shape[0]*0.7)\n",
    "\n",
    "#training data and associated labels\n",
    "train_data  = data[:train_size, :]\n",
    "val_data = data[train_size:, :]\n",
    "\n",
    "#validation data and associated labels\n",
    "train_label = label[:train_size]\n",
    "val_label = label[train_size:]\n",
    "\n",
    "\n",
    "print(\"training data shape= {}; training label shape = {} \\nValidation data shape= {}; validation label shape = {}\".format(train_data.shape, \n",
    "                                                                        train_label.shape,\n",
    "                                                                        val_data.shape,\n",
    "                                                                        val_label.shape))"
   ]
  },
  {
   "cell_type": "markdown",
   "metadata": {
    "nbpresent": {
     "id": "f7c3d16e-d839-4d89-a798-ffbd3f833a4a"
    }
   },
   "source": [
    "### Saving data for later use\n",
    "Here I strongly recommend to save the resulting data into files and uploading them to S3. This is a toy dataset and is quickly processed. In real-life pre-processing of the data could take a long time. I remember once I did pre-process a language corpus into vectors and did not save them. I had to later restart my notebooks server and lost all the value in notebook memory. This was 6 hours of wait time.\n",
    "The saving and uploading are performed in two separate steps:\n",
    "\n",
    "1. Saving the vectors, suing numpy.save, which saves the prepared vectors as npy objects. I have switched on pickle=True to use pickle serialization.\n",
    "2. Uploading the data from local (notebook server) to S3. I am using sgemaker.Session object, so that I the upload would be authorized to my S3 bucket. Output of sagemaker.upload_data indicates where the files are located. You can check your S3 bucket to ensure the upload is perfomed fully using"
   ]
  },
  {
   "cell_type": "code",
   "execution_count": 144,
   "metadata": {
    "nbpresent": {
     "id": "2e4fe77b-4eea-46ad-8504-d63c71b272cf"
    }
   },
   "outputs": [
    {
     "name": "stdout",
     "output_type": "stream",
     "text": [
      "data/processed/:\r\n",
      "test  train\r\n",
      "\r\n",
      "data/processed/test:\r\n",
      "val_data.npy  val_label.npy\r\n",
      "\r\n",
      "data/processed/train:\r\n",
      "train_data.npy\ttrain_label.npy\r\n"
     ]
    }
   ],
   "source": [
    "#Saving arrays for later use\n",
    "np.save('data/processed/train/train_data.npy', train_data, allow_pickle=True)\n",
    "np.save('data/processed/train/train_label.npy', train_label, allow_pickle=True)\n",
    "np.save('data/processed/test/val_data.npy', val_data, allow_pickle=True)\n",
    "np.save('data/processed/test/val_label.npy', val_label, allow_pickle=True)\n",
    "\n",
    "!ls -R data/processed/\n"
   ]
  },
  {
   "cell_type": "markdown",
   "metadata": {
    "nbpresent": {
     "id": "075a6150-b890-4b2a-a20a-5bb5ea56ffe4"
    }
   },
   "source": [
    "## SageMaker Process - Upload your data onto S3\n",
    "This could have been done outside of sagemaker as well. "
   ]
  },
  {
   "cell_type": "code",
   "execution_count": 150,
   "metadata": {
    "nbpresent": {
     "id": "2cca79c5-23e9-43a2-bed0-f77c61350bdc"
    }
   },
   "outputs": [
    {
     "name": "stdout",
     "output_type": "stream",
     "text": [
      "s3://cyrusmv-sagemaker-demos/visa-kaggle/data\n",
      "2018-01-04 12:19:10          0 visa-kaggle/data/\n",
      "2018-02-01 15:23:26   20506400 visa-kaggle/data/test/val_data.npy\n",
      "2018-02-01 15:23:26     683624 visa-kaggle/data/test/val_label.npy\n",
      "2018-02-01 15:23:25   47847440 visa-kaggle/data/train/train_data.npy\n",
      "2018-02-01 15:23:25    1594992 visa-kaggle/data/train/train_label.npy\n"
     ]
    }
   ],
   "source": [
    "#Uploading the data.\n",
    "'''\n",
    "path is the local path on your notbooks instance\n",
    "bucket is your bucket name\n",
    "key_prefix is your folder structure inside you S3 bucket\n",
    "'''\n",
    "S3loc = sagemaker_session.upload_data(path='data/processed/', bucket='cyrusmv-sagemaker-demos', key_prefix='visa-kaggle/data')\n",
    "print(S3loc)\n",
    "!aws s3 ls cyrusmv-sagemaker-demos/visa-kaggle/data/ --recursive #use the output from your own S3loc"
   ]
  },
  {
   "cell_type": "markdown",
   "metadata": {
    "nbpresent": {
     "id": "ce2c3941-055c-48da-a44a-acae10d538fe"
    }
   },
   "source": [
    "### End of Data Preparation Phase\n",
    "At this point we have a set of npy training and validation files in S3 and no longer need the local data. This tutorial up to here can be split into a separate notebook. In fact I strongly recommend that you should do this. Next we are going to train LinearLearnier model with the Visa dataset; but before that, let me get a little bit deeper into SageMaker and Amazon Algorithms."
   ]
  },
  {
   "cell_type": "markdown",
   "metadata": {
    "nbpresent": {
     "id": "6e407eaf-5b91-4d49-90c2-6d627674e902"
    }
   },
   "source": [
    "## SageMaker Proces - Training\n",
    "Before diving into the code, let us get a little bit under the hood of SageMaker ans see how it works. SageMaker python SDK has a few core Classes. The most important class hierarchy for training jobs is the EStimator class.\n",
    "\n",
    "The base class, Estimator base, has a method, called ```python fit()```. Fit in an abstract function in the base and requires to be implemented in derived Estimators. \n",
    "### Estimator Class Hierarchy\n",
    "Ignoring Frameworks and other bult-in algorithm we can see that LinearLearne implements AmazonAlgorithmEstimatorBase, which in turn is derived from EstimatorBase.\n",
    "![estimator class](https://github.com/cyrusmvahid/sagemaker-demos/raw/master/docs/images/estimator_linearlearner.png)\n",
    "\n",
    "EstimatorBase has a few funcdamental methods, ```python fit()``` is the most important amongst them. Models differ from one antoher from Amazon SageMaker's peerspective in terms of what parameteres is passed to them. Each algorithm has implementd its own Estimator with varying properties. SageMaker framework, then calls the appropriate Estimator's ```python fit()``` polymorphically.\n",
    "\n"
   ]
  },
  {
   "cell_type": "code",
   "execution_count": 153,
   "metadata": {},
   "outputs": [
    {
     "name": "stdout",
     "output_type": "stream",
     "text": [
      "../docs/images/classes_est_base.png\r\n"
     ]
    }
   ],
   "source": [
    "!ls ../docs/images/classes_est_base.png"
   ]
  },
  {
   "cell_type": "code",
   "execution_count": null,
   "metadata": {
    "collapsed": true,
    "nbpresent": {
     "id": "ccfe3dd1-05b2-4f80-b070-23f0d21e5acf"
    }
   },
   "outputs": [],
   "source": [
    "train_data = np.load('data/train_data.npy')\n",
    "train_label = np.load('data/train_label.npy')\n",
    "\n",
    "val_data = np.load('data/val_data.npy')\n",
    "val_label = np.load('data/val_label.npy')\n",
    "\n",
    "print(\"training data shape= {}; training label shape = {} \\nValidation data shape= {}; validation label shape = {}\".format(train_data.shape, \n",
    "                                                                        train_label.shape,\n",
    "                                                                        val_data.shape,\n",
    "                                                                        val_label.shape))\n",
    "train_set = (train_data, train_label)\n",
    "test_set = (val_data, val_label)\n"
   ]
  },
  {
   "cell_type": "markdown",
   "metadata": {
    "nbpresent": {
     "id": "86f20fc8-c59a-48fe-aca5-c6606b35c928"
    }
   },
   "source": [
    "# Data Conversion\n",
    "Amazon Algorithms support csv and recordio/protobuf. recordio is faster than CSV and specially in algorithms that deal with sparse matrices, CSV is not supported, so I just convert the data into recordio"
   ]
  },
  {
   "cell_type": "code",
   "execution_count": null,
   "metadata": {
    "collapsed": true,
    "nbpresent": {
     "id": "2d5e169e-0b87-4156-b6dd-7abf5c8dbda8"
    }
   },
   "outputs": [],
   "source": [
    "vectors = np.array([t.tolist() for t in train_set[0]]).astype('float32')\n",
    "labels = np.array([t.tolist() for t in train_set[1]]).astype('float32')\n",
    "\n",
    "buf = io.BytesIO()\n",
    "smac.write_numpy_to_dense_tensor(buf, vectors, labels)\n",
    "buf.seek(0)"
   ]
  },
  {
   "cell_type": "markdown",
   "metadata": {
    "nbpresent": {
     "id": "7bc9634c-7db3-4406-8f45-dfc64069a2c7"
    }
   },
   "source": [
    "# Upload training data\n",
    "Now that we've created our recordIO-wrapped protobuf, we'll need to upload it to S3, so that Amazon SageMaker training can use it."
   ]
  },
  {
   "cell_type": "code",
   "execution_count": null,
   "metadata": {
    "collapsed": true,
    "nbpresent": {
     "id": "b7bfb4f2-b339-4dce-a1ac-6ce97d66967a"
    }
   },
   "outputs": [],
   "source": [
    "key = 'recordio-pb-data'\n",
    "boto3.resource('s3').Bucket(bucket).Object(os.path.join(prefix, 'train', key)).upload_fileobj(buf)\n",
    "s3_train_data = 's3://{}/{}/train/{}'.format(bucket, prefix, key)\n",
    "print('uploaded training data location: {}'.format(s3_train_data))"
   ]
  },
  {
   "cell_type": "code",
   "execution_count": null,
   "metadata": {
    "collapsed": true,
    "nbpresent": {
     "id": "e8bf0e93-6e79-4a3c-8b2f-a8dc5502663b"
    }
   },
   "outputs": [],
   "source": []
  },
  {
   "cell_type": "markdown",
   "metadata": {
    "nbpresent": {
     "id": "bacac4be-72cb-492c-9963-a3d1a750ba64"
    }
   },
   "source": [
    "Let's also setup an output S3 location for the model artifact that will be output as the result of training with the algorithm."
   ]
  },
  {
   "cell_type": "code",
   "execution_count": null,
   "metadata": {
    "collapsed": true,
    "nbpresent": {
     "id": "959f7129-dd4d-40c2-b025-98f334c52182"
    }
   },
   "outputs": [],
   "source": [
    "output_location = 's3://{}/{}/output'.format(bucket, prefix)\n",
    "print('training artifacts will be uploaded to: {}'.format(output_location))"
   ]
  },
  {
   "cell_type": "markdown",
   "metadata": {
    "nbpresent": {
     "id": "79ba5925-4fba-46fa-ae24-58c0139d5427"
    }
   },
   "source": [
    "# Training the model\n",
    "At this point we are using an linear learner from amazon algorithms. Docker file containing the model is located in multiple regions. We tool the following steps\n",
    "1. define containers\n",
    "2. Create am Estimator object and pass the hyper-parameters as well as the model location to it.\n",
    "3. run Estimator.fit to begin training the model\n",
    "![Model Error or Loss](https://github.com/zackchase/mxnet-the-straight-dope/raw/dc1822005027d63eb9a20cde1a6276c7714050f4/img/linear-regression.png)"
   ]
  },
  {
   "cell_type": "code",
   "execution_count": null,
   "metadata": {
    "collapsed": true,
    "nbpresent": {
     "id": "b3df9c71-d576-43e9-9c7c-1880055d0f6b"
    }
   },
   "outputs": [],
   "source": [
    "containers = {'us-west-2': '174872318107.dkr.ecr.us-west-2.amazonaws.com/linear-learner:latest',\n",
    "              'us-east-1': '382416733822.dkr.ecr.us-east-1.amazonaws.com/linear-learner:latest',\n",
    "              'us-east-2': '404615174143.dkr.ecr.us-east-2.amazonaws.com/linear-learner:latest',\n",
    "              'eu-west-1': '438346466558.dkr.ecr.eu-west-1.amazonaws.com/linear-learner:latest'}"
   ]
  },
  {
   "cell_type": "code",
   "execution_count": null,
   "metadata": {
    "collapsed": true,
    "nbpresent": {
     "id": "a9d1e699-25f4-4629-9bcd-cb3eaa2000c0"
    }
   },
   "outputs": [],
   "source": [
    "sess = sagemaker.Session()\n",
    "\n",
    "linear = sagemaker.estimator.Estimator(containers[boto3.Session().region_name],\n",
    "                                       role, #S3 role, so the notebook can read the data and upload the model\n",
    "                                       train_instance_count=1, #number of instances for training\n",
    "                                       train_instance_type='ml.p2.xlarge', # type of training instance\n",
    "                                       output_path=output_location, #s3 location for uploading trained mdoel\n",
    "                                       sagemaker_session=sess)\n",
    "\n",
    "linear.set_hyperparameters(feature_dim=30, #dataset has 30 columns (features)\n",
    "                           predictor_type='binary_classifier', # we predict a binary value. it could have been regressor\n",
    "                           mini_batch_size=200)\n",
    "\n",
    "linear.fit({'train': s3_train_data})"
   ]
  },
  {
   "cell_type": "markdown",
   "metadata": {
    "nbpresent": {
     "id": "4c358790-fbeb-4134-98da-44a9fd2f0a0a"
    }
   },
   "source": [
    "# Hosting the model\n",
    "We use sagemaker to host the live model by calling deploy from estimator we defined previously. This action will create a dockerized environment using ECS and permits autoscaling. "
   ]
  },
  {
   "cell_type": "code",
   "execution_count": null,
   "metadata": {
    "collapsed": true,
    "nbpresent": {
     "id": "2d9a143f-c309-4634-a8a4-98bd2dea8678"
    }
   },
   "outputs": [],
   "source": [
    "linear_predictor = linear.deploy(initial_instance_count=1, #Initial number of instances. \n",
    "                                                           #Autoscaling can increase the number of instances.\n",
    "                                 instance_type='ml.m4.xlarge') # instance type"
   ]
  },
  {
   "cell_type": "markdown",
   "metadata": {
    "nbpresent": {
     "id": "026aa525-95c5-422d-848a-abe86b494e6e"
    }
   },
   "source": [
    "# Prediction\n",
    "deploy resturn a live endpoint (linear_predictor). Predictors in sagemaker accept csv and json. In this case we use json serialization."
   ]
  },
  {
   "cell_type": "code",
   "execution_count": null,
   "metadata": {
    "collapsed": true,
    "nbpresent": {
     "id": "ccabbb87-c916-47c3-90b3-2fbb8b5e2fd4"
    }
   },
   "outputs": [],
   "source": [
    "linear_predictor.content_type = 'text/csv'\n",
    "linear_predictor.serializer = csv_serializer\n",
    "linear_predictor.deserializer = json_deserializer"
   ]
  },
  {
   "cell_type": "code",
   "execution_count": null,
   "metadata": {
    "collapsed": true,
    "nbpresent": {
     "id": "8a8d4e2f-5ffb-48bb-b4d0-297b4b9ccb14"
    }
   },
   "outputs": [],
   "source": [
    "#since score==1 is very rare we want to make sure we can correctly predict fradulant transaction. \n",
    "#First we print a lost of all labels where score == 1, then then run a prediction\n",
    "t = []\n",
    "for i in range(len(train_label)):\n",
    "    if train_label[i] == 1:\n",
    "        t.append(i)\n",
    "        \n",
    "print(t)\n",
    "print(linear_predictor.predict(train_set[0][1294:1299]))\n"
   ]
  },
  {
   "cell_type": "code",
   "execution_count": null,
   "metadata": {
    "collapsed": true,
    "nbpresent": {
     "id": "d55359c3-9144-4079-936e-acabb15c003f"
    }
   },
   "outputs": [],
   "source": [
    "non_zero = np.count_nonzero(test_set[1])\n",
    "zero = len(test_set[1]) - non_zero\n",
    "print(\"validation set includes: {} non zero and {} items woth value zero\".format(non_zero, zero))"
   ]
  },
  {
   "cell_type": "code",
   "execution_count": null,
   "metadata": {
    "collapsed": true,
    "nbpresent": {
     "id": "79f4f9a3-e64b-4223-b09c-9a1133a9d55d"
    }
   },
   "outputs": [],
   "source": [
    "predictions = []\n",
    "for array in np.array_split(test_set[0], 100):\n",
    "    result = linear_predictor.predict(array)\n",
    "    predictions += [r['predicted_label'] for r in result['predictions']]\n",
    "\n",
    "predictions = np.array(predictions)"
   ]
  },
  {
   "cell_type": "code",
   "execution_count": null,
   "metadata": {
    "collapsed": true,
    "nbpresent": {
     "id": "a59cccae-fced-4008-b5a8-fbd2d4deaa61"
    }
   },
   "outputs": [],
   "source": [
    "import pandas as pd\n",
    "\n",
    "pd.crosstab(test_set[1], predictions, rownames=['actuals'], colnames=['predictions'])"
   ]
  },
  {
   "cell_type": "markdown",
   "metadata": {
    "nbpresent": {
     "id": "1258c01b-c2f7-484b-a824-04123115c4e0"
    }
   },
   "source": [
    "The confusion matrix above indicates that:\n",
    "- of 162 fraudulant cases we detected 143 correcly\n",
    "- 39 times a non-fraudulant transaction has been flagges as fraud from a total of 113761 transactions.\n"
   ]
  },
  {
   "cell_type": "markdown",
   "metadata": {
    "nbpresent": {
     "id": "94a82f75-6c54-49bd-8e92-fce009ac4422"
    }
   },
   "source": [
    "# (optional) Delete the endpoint\n",
    "f you're ready to be done with this notebook, please run the delete_endpoint line in the cell below. This will remove the hosted endpoint you created and avoid any charges from a stray instance being left on."
   ]
  },
  {
   "cell_type": "code",
   "execution_count": null,
   "metadata": {
    "collapsed": true,
    "nbpresent": {
     "id": "d610ffc0-3eb3-4875-88ca-591d177bb5f1"
    }
   },
   "outputs": [],
   "source": [
    "\n",
    "\n",
    "\n",
    "Let us start with a simple example. A classic example of linear regression is survival score for a pssenger in Titanic's infamous maiden vouyage. Let us start with a simple example. A classic example of linear regression is survival score for a passenger in Titanic's infamous maiden voyage.  Titanic dataset in Kaggle has captured this data. for more information on the dataset please chekout [!this link](https://www.kaggle.com/c/titanic). "
   ]
  }
 ],
 "metadata": {
  "kernelspec": {
   "display_name": "conda_python3",
   "language": "python",
   "name": "conda_python3"
  },
  "language_info": {
   "codemirror_mode": {
    "name": "ipython",
    "version": 3
   },
   "file_extension": ".py",
   "mimetype": "text/x-python",
   "name": "python",
   "nbconvert_exporter": "python",
   "pygments_lexer": "ipython3",
   "version": "3.6.2"
  }
 },
 "nbformat": 4,
 "nbformat_minor": 2
}
